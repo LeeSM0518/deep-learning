{
 "cells": [
  {
   "cell_type": "markdown",
   "metadata": {},
   "source": [
    "# 모델 구현하기"
   ]
  },
  {
   "cell_type": "code",
   "execution_count": 7,
   "metadata": {},
   "outputs": [
    {
     "name": "stdout",
     "output_type": "stream",
     "text": [
      "Extracting ./mnist/data/train-images-idx3-ubyte.gz\n",
      "Extracting ./mnist/data/train-labels-idx1-ubyte.gz\n",
      "Extracting ./mnist/data/t10k-images-idx3-ubyte.gz\n",
      "Extracting ./mnist/data/t10k-labels-idx1-ubyte.gz\n"
     ]
    }
   ],
   "source": [
    "import tensorflow as tf\n",
    "\n",
    "# MNIST 데이터셋 사용\n",
    "from tensorflow.examples.tutorials.mnist import input_data\n",
    "mnist = input_data.read_data_sets(\"./mnist/data\", one_hot=True)"
   ]
  },
  {
   "cell_type": "markdown",
   "metadata": {},
   "source": [
    "MNIST의 레이블은 0~9의 값이지만, 이것은 연속된 숫자가 아닌 카테고리 값입니다. 따라서 One-Hot Encoding이 필요합니다. \n",
    "* **ex)** 5는 [0, 0, 0, 0, 0, 1, 0, 0, 0, 0], 0은 [1, 0, 0, 0, 0, 0, 0, 0, 0, 0] 식으로 됩니다."
   ]
  },
  {
   "cell_type": "markdown",
   "metadata": {},
   "source": [
    "---\n",
    "\n",
    "* **X: 입력 데이터를 넣을 플레이스 홀더**\n",
    "  * None : 입력 데이터의 개수 (텐서플로가 알아서 계산할 수 있도록 미지정을 해놓음)\n",
    "  * 28, 28 : 28 X 28 이미지를 뜻한다.\n",
    "  * 1 : 이미지가 회색조이기 때문에 채널에 색상이 하나이다.\n",
    "\n",
    "<br>\n",
    "\n",
    "* **Y: 출력 데이터가 나올 플레이스 홀더**\n",
    "  * None : 출력 데이터의 개수 (텐서플로가 알아서 계산할 수 있도록 미지정을 해놓음)\n",
    "  * 10 : 숫자 이미지 파일이 0 부터 10 까지 있으므로 결과는 10개 중에 하나이다."
   ]
  },
  {
   "cell_type": "code",
   "execution_count": 8,
   "metadata": {},
   "outputs": [],
   "source": [
    "X = tf.placeholder(tf.float32, [None, 28, 28, 1])\n",
    "Y = tf.placeholder(tf.float32, [None, 10])\n",
    "keep_prob = tf.placeholder(tf.float32)"
   ]
  },
  {
   "cell_type": "markdown",
   "metadata": {},
   "source": [
    "## CNN 계층 구성하기\n",
    "* **3 X 3 크기의 커널을 가진 컨볼루션 계층을 만든다.**\n",
    "  1. 3 X 3 커널이 오른쪽과 아래쪽으로 한 칸씩(스트라이드) 움직이는 32개의 커널을 가진 컨볼루션 계층을 만들기 위한 가중치를 만든다.\n",
    "  2. tf.nn.conv2d 함수를 이용하여 컨볼루션 계층을 만든다. (padding='SAME': 이미지의 테두리의 한 칸 밖까지 움직이는 옵션이다. 이렇게 하면 이미지의 테두리 까지 명확한 평가가 가능)\n",
    "  3. tf.nn.relu 활성화 함수를 통해 컨볼루션 계층을 완성한다."
   ]
  },
  {
   "cell_type": "code",
   "execution_count": 9,
   "metadata": {},
   "outputs": [],
   "source": [
    "W1 = tf.Variable(tf.random_normal([3, 3, 1, 32], stddev=0.01))\n",
    "L1 = tf.nn.conv2d(X, W1, strides=[1, 1, 1, 1], padding='SAME')\n",
    "L1 = tf.nn.relu(L1)"
   ]
  },
  {
   "cell_type": "markdown",
   "metadata": {},
   "source": [
    "## 폴링 계층 구성하기\n",
    "* 컨볼루션 계층을 입력층으로 사용하고, 커널 크기를 2 X 2로 하는 풀링 계층을 만든다."
   ]
  },
  {
   "cell_type": "code",
   "execution_count": 10,
   "metadata": {},
   "outputs": [],
   "source": [
    "# strides=[1, 2, 2, 1] : 슬라이딩 시 두 칸씩 움직이겠다는 옵션이다.\n",
    "L1 = tf.nn.max_pool(L1, ksize=[1, 2, 2, 1], strides=[1, 2, 2, 1],\n",
    "                   padding='SAME')"
   ]
  },
  {
   "cell_type": "code",
   "execution_count": null,
   "metadata": {},
   "outputs": [],
   "source": []
  }
 ],
 "metadata": {
  "kernelspec": {
   "display_name": "Python 3",
   "language": "python",
   "name": "python3"
  },
  "language_info": {
   "codemirror_mode": {
    "name": "ipython",
    "version": 3
   },
   "file_extension": ".py",
   "mimetype": "text/x-python",
   "name": "python",
   "nbconvert_exporter": "python",
   "pygments_lexer": "ipython3",
   "version": "3.7.2"
  }
 },
 "nbformat": 4,
 "nbformat_minor": 2
}
