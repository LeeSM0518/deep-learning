{
 "cells": [
  {
   "cell_type": "markdown",
   "metadata": {},
   "source": [
    "# 간단한 분류 모델 구현하기\n",
    "**분류(classification)** : 패턴을 파악해 여러 종류로 구분하는 작업\n",
    "* ex) 어떠한 사진이 고양이잊니, 강아지인지 또는 자동차인지 판단하는 일"
   ]
  },
  {
   "cell_type": "code",
   "execution_count": 30,
   "metadata": {},
   "outputs": [],
   "source": [
    "# Numpy : 수치해석용 파이썬 라이브러리\n",
    "import tensorflow as tf\n",
    "import numpy as np"
   ]
  },
  {
   "cell_type": "code",
   "execution_count": 31,
   "metadata": {},
   "outputs": [],
   "source": [
    "# [털, 날개] 0: 무, 1: 유 \n",
    "# 데이터 구성\n",
    "x_data = np.array([\n",
    "    [0, 0],\n",
    "    [1, 0],\n",
    "    [1, 1],\n",
    "    [0, 0],\n",
    "    [0, 0],\n",
    "    [0, 1]\n",
    "])"
   ]
  },
  {
   "cell_type": "markdown",
   "metadata": {},
   "source": [
    "각 개체가 실제 어떤 종류인지를 나타내는 **레이블(분류값) 데이터**를 구성한다.\n",
    "* **레이블 데이터** : 원-핫 인코딩(one-hot encoding)이라는 특수한 현태로 구성한다.\n",
    "  * **원-핫 인코딩** : 데이터가 가질 수 있는 값들을 일렬로 나열한 배열을 만들고, 그중 표현하려는 값을 뜻하는 인덱스의 원소만 1로 표기하고 나머지 원소는 모두 9으로 채우는 표기법\n",
    "  * ex) 기타 = [1, 0, 0], 포유류 = [0, 1, 0], 조류 = [0, 0, 1]"
   ]
  },
  {
   "cell_type": "code",
   "execution_count": 32,
   "metadata": {},
   "outputs": [],
   "source": [
    "y_data = np.array([\n",
    "    [1, 0, 0],      # 기타\n",
    "    [0, 1, 0],      # 포유류\n",
    "    [0, 0, 1],      # 조류\n",
    "    [1, 0, 0],\n",
    "    [1, 0, 0],\n",
    "    [0, 0, 1]\n",
    "])"
   ]
  },
  {
   "cell_type": "markdown",
   "metadata": {},
   "source": [
    "**플레이스홀더(placeholder)** : 학습용 데이터를 담는 그릇이다.\n",
    "* 선언 예시 : **tf.placeholder(dtype, shape, name)**\n",
    "  * dtype : 플레이스홀더에 저장되는 데이터형\n",
    "  * shape : 행렬의 차원\n",
    "  * name : 플레이스홀더의 이름"
   ]
  },
  {
   "cell_type": "code",
   "execution_count": 33,
   "metadata": {},
   "outputs": [],
   "source": [
    "# 신경망 모델 구성, X와 레이블 Y와의 관계를 알아내는 모델\n",
    "# X와 Y를 플레이스홀더로 설정한다.\n",
    "X = tf.placeholder(tf.float32)\n",
    "Y = tf.placeholder(tf.float32)"
   ]
  },
  {
   "cell_type": "markdown",
   "metadata": {},
   "source": [
    "**변수형(Variable)** : 가중치와 편향을 만들어주기 위함\n",
    "* tf.random_uniform : 0~1 사이의 균등확률분포 값을 생성해주는 함수\n",
    "* tf.zeros : 모든 원소의 값이 0인 텐서를 생성한다."
   ]
  },
  {
   "cell_type": "code",
   "execution_count": 34,
   "metadata": {},
   "outputs": [],
   "source": [
    "# 가중치와 편향 변수 설정\n",
    "# W = [입력층(특징 수), 출력층(레이블 수)]\n",
    "# b = ([레이블 수])\n",
    "W = tf.Variable(tf.random_uniform([2, 3], -1., 1.))\n",
    "b = tf.Variable(tf.zeros([3]))"
   ]
  },
  {
   "cell_type": "code",
   "execution_count": 35,
   "metadata": {},
   "outputs": [],
   "source": [
    "# 위의 가중치를 곱하고 편향을 더하고 활성화 함수인 ReLU에 적용하면 신경망 구성 완료\n",
    "L = tf.add(tf.matmul(X, W), b)\n",
    "L = tf.nn.relu(L)"
   ]
  },
  {
   "cell_type": "code",
   "execution_count": 36,
   "metadata": {},
   "outputs": [],
   "source": [
    "# 신경망을 통해 나온 출력값을 softmax 함수를 통해 사용하기 쉽게 한다.\n",
    "model = tf.nn.softmax(L)"
   ]
  },
  {
   "cell_type": "code",
   "execution_count": 37,
   "metadata": {},
   "outputs": [],
   "source": [
    "# 손실 함수 작성\n",
    "# 교차 엔트로피 함수 : 예측값과 실제값 사이의 확률 분포 차이를 계산한 값\n",
    "cost = tf.reduce_mean(-tf.reduce_sum(Y * tf.log(model), axis=1))"
   ]
  },
  {
   "cell_type": "code",
   "execution_count": 38,
   "metadata": {},
   "outputs": [
    {
     "name": "stdout",
     "output_type": "stream",
     "text": [
      "10 1.123563\n",
      "20 1.1106182\n",
      "30 1.0982074\n",
      "40 1.0863138\n",
      "50 1.07492\n",
      "60 1.0640074\n",
      "70 1.0535575\n",
      "80 1.0435511\n",
      "90 1.0339689\n",
      "100 1.0247921\n"
     ]
    }
   ],
   "source": [
    "# 학습\n",
    "# 기본적인 경사하강법으로 최적화한다.\n",
    "optimizer = tf.train.GradientDescentOptimizer(learning_rate=0.01)\n",
    "train_op = optimizer.minimize(cost)\n",
    "\n",
    "# 텐서플로의 세션을 초기화한다.\n",
    "init = tf.global_variables_initializer()\n",
    "sess = tf.Session()\n",
    "sess.run(init)\n",
    "\n",
    "# 앞서 구성한 특징과 레이블 데이터를 이용해 학습을 100번 진행한다.\n",
    "for step in range(100):\n",
    "    sess.run(train_op, feed_dict={X: x_data, Y: y_data})\n",
    "    \n",
    "    # 학습 도중 10번에 한 번씩 손실값 출력\n",
    "    if (step + 1) % 10 == 0:\n",
    "        print(step + 1, sess.run(cost, feed_dict={X:x_data, Y:y_data}))"
   ]
  },
  {
   "cell_type": "code",
   "execution_count": 39,
   "metadata": {},
   "outputs": [
    {
     "name": "stdout",
     "output_type": "stream",
     "text": [
      "예측값:  [2 0 2 2 2 2]\n",
      "실제값:  [0 1 2 0 0 2]\n"
     ]
    }
   ],
   "source": [
    "# 학습 결과 출력\n",
    "prediction = tf.argmax(model, axis=1)\n",
    "target = tf.argmax(Y, axis=1)\n",
    "print(\"예측값: \" , sess.run(prediction, feed_dict={X: x_data}))\n",
    "print(\"실제값: \" , sess.run(target, feed_dict={Y: y_data}))"
   ]
  },
  {
   "cell_type": "code",
   "execution_count": 40,
   "metadata": {},
   "outputs": [
    {
     "name": "stdout",
     "output_type": "stream",
     "text": [
      "정확도 : 33.33\n"
     ]
    }
   ],
   "source": [
    "# 정확도 출력\n",
    "is_correct = tf.equal(prediction, target)\n",
    "accuracy = tf.reduce_mean(tf.cast(is_correct, tf.float32))\n",
    "print('정확도 : %.2f' %sess.run(accuracy * 100, feed_dict={X: x_data, Y: y_data}))"
   ]
  },
  {
   "cell_type": "markdown",
   "metadata": {},
   "source": [
    "# 심층 신경망 구현하기"
   ]
  },
  {
   "cell_type": "code",
   "execution_count": 41,
   "metadata": {},
   "outputs": [],
   "source": [
    "# 다층 신경망은 앞서 만든 신경망 모델에 가중치와 편향을 추가하기만 하면 된다.\n",
    "\n",
    "# 가중치\n",
    "# W1 = [특징, 은닉층의 뉴런 수]\n",
    "# W2 = [은닉층의 뉴런 수, 분류 수]\n",
    "W1 = tf.Variable(tf.random_uniform([2, 10], -1., 1.))\n",
    "W2 = tf.Variable(tf.random_uniform([10, 3], -1., 1.))\n",
    "\n",
    "# 편향\n",
    "# b1 = [은닉층의 뉴런 수]\n",
    "# b2 = [분류 수]\n",
    "b1 = tf.Variable(tf.zeros([10]))\n",
    "b2 = tf.Variable(tf.zeros([3]))"
   ]
  },
  {
   "cell_type": "code",
   "execution_count": 42,
   "metadata": {},
   "outputs": [],
   "source": [
    "# 가중치와 편향 그리고 활성화 함수를 적용한다.\n",
    "L1 = tf.add(tf.matmul(X, W1), b1)\n",
    "L1 = tf.nn.relu(L1)"
   ]
  },
  {
   "cell_type": "code",
   "execution_count": 43,
   "metadata": {},
   "outputs": [],
   "source": [
    "# 가중치와 편향을 적용하여 최종 모델을 만든다.\n",
    "model = tf.add(tf.matmul(L1, W2), b2)"
   ]
  },
  {
   "cell_type": "code",
   "execution_count": 44,
   "metadata": {},
   "outputs": [],
   "source": [
    "# 손실 함수 작성\n",
    "# 엔트로피 함수를 사용한다.\n",
    "cost = tf.reduce_mean(\n",
    "    tf.nn.softmax_cross_entropy_with_logits_v2(labels=Y, logits=model))\n",
    "\n",
    "optimizer = tf.train.AdamOptimizer(learning_rate=0.01)\n",
    "train_op = optimizer.minimize(cost)"
   ]
  },
  {
   "cell_type": "code",
   "execution_count": 45,
   "metadata": {},
   "outputs": [
    {
     "name": "stdout",
     "output_type": "stream",
     "text": [
      "10 0.8923652\n",
      "20 0.7374669\n",
      "30 0.591422\n",
      "40 0.464195\n",
      "50 0.34549627\n",
      "60 0.25169766\n",
      "70 0.18228318\n",
      "80 0.13196768\n",
      "90 0.09690523\n",
      "100 0.0697935\n"
     ]
    }
   ],
   "source": [
    "# 텐서플로의 세션을 초기화한다.\n",
    "init = tf.global_variables_initializer()\n",
    "sess = tf.Session()\n",
    "sess.run(init)\n",
    "\n",
    "# 앞서 구성한 특징과 레이블 데이터를 이용해 학습을 100번 진행한다.\n",
    "for step in range(100):\n",
    "    sess.run(train_op, feed_dict={X: x_data, Y: y_data})\n",
    "    \n",
    "    # 학습 도중 10번에 한 번씩 손실값 출력\n",
    "    if (step + 1) % 10 == 0:\n",
    "        print(step + 1, sess.run(cost, feed_dict={X:x_data, Y:y_data}))"
   ]
  },
  {
   "cell_type": "code",
   "execution_count": 46,
   "metadata": {},
   "outputs": [
    {
     "name": "stdout",
     "output_type": "stream",
     "text": [
      "예측값:  [0 1 2 0 0 2]\n",
      "실제값:  [0 1 2 0 0 2]\n"
     ]
    }
   ],
   "source": [
    "# 학습 결과 출력\n",
    "prediction = tf.argmax(model, axis=1)\n",
    "target = tf.argmax(Y, axis=1)\n",
    "print(\"예측값: \" , sess.run(prediction, feed_dict={X: x_data}))\n",
    "print(\"실제값: \" , sess.run(target, feed_dict={Y: y_data}))"
   ]
  },
  {
   "cell_type": "code",
   "execution_count": 47,
   "metadata": {},
   "outputs": [
    {
     "name": "stdout",
     "output_type": "stream",
     "text": [
      "정확도 : 100.00\n"
     ]
    }
   ],
   "source": [
    "# 정확도 출력\n",
    "is_correct = tf.equal(prediction, target)\n",
    "accuracy = tf.reduce_mean(tf.cast(is_correct, tf.float32))\n",
    "print('정확도 : %.2f' %sess.run(accuracy * 100, feed_dict={X: x_data, Y: y_data}))"
   ]
  },
  {
   "cell_type": "code",
   "execution_count": 48,
   "metadata": {},
   "outputs": [
    {
     "name": "stdout",
     "output_type": "stream",
     "text": [
      "[[0 0 1 0 0]\n",
      " [1 0 0 1 0]\n",
      " [1 1 0 0 1]\n",
      " [0 0 1 0 0]\n",
      " [0 0 1 0 0]\n",
      " [0 1 0 0 1]]\n"
     ]
    }
   ],
   "source": [
    "# 데이터 파일 만들기\n",
    "sum_data = np.hstack((x_data, y_data))\n",
    "print(sum_data)"
   ]
  },
  {
   "cell_type": "code",
   "execution_count": 49,
   "metadata": {},
   "outputs": [],
   "source": [
    "import csv\n",
    "\n",
    "csvfile = open('./data.csv', 'w', newline=\"\")\n",
    "\n",
    "csvwriter = csv.writer(csvfile)\n",
    "for row in sum_data:\n",
    "    csvwriter.writerow(row)\n",
    "    \n",
    "csvfile.close()"
   ]
  }
 ],
 "metadata": {
  "kernelspec": {
   "display_name": "Python 3",
   "language": "python",
   "name": "python3"
  },
  "language_info": {
   "codemirror_mode": {
    "name": "ipython",
    "version": 3
   },
   "file_extension": ".py",
   "mimetype": "text/x-python",
   "name": "python",
   "nbconvert_exporter": "python",
   "pygments_lexer": "ipython3",
   "version": "3.7.2"
  }
 },
 "nbformat": 4,
 "nbformat_minor": 2
}
