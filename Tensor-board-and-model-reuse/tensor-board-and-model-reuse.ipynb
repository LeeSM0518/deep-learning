{
 "cells": [
  {
   "cell_type": "markdown",
   "metadata": {},
   "source": [
    "# 학습 모델 저장하고 재사용하기"
   ]
  },
  {
   "cell_type": "code",
   "execution_count": null,
   "metadata": {},
   "outputs": [],
   "source": [
    "# 데이터를 읽어 들이고 변환\n",
    "import tensorflow as tf\n",
    "import numpy as np\n",
    "\n",
    "data = np.loadtxt('../Neural-Network-Implementation/data.csv',\n",
    "                  delimiter=',', unpack=True, dtype='float32')\n",
    "\n",
    "x_data = np.transpose(data[0:2])\n",
    "y_data = np.transpose(data[2:])"
   ]
  },
  {
   "cell_type": "code",
   "execution_count": null,
   "metadata": {},
   "outputs": [],
   "source": [
    "print(data)"
   ]
  },
  {
   "cell_type": "code",
   "execution_count": null,
   "metadata": {},
   "outputs": [],
   "source": [
    "print(x_data)\n",
    "print(y_data)"
   ]
  },
  {
   "cell_type": "code",
   "execution_count": null,
   "metadata": {},
   "outputs": [],
   "source": [
    "# 신경망 모델 구성\n",
    "# global_step : 학습 횟수를 카운트하는 변수\n",
    "global_step = tf.Variable(0, trainable=False, name='global_step')"
   ]
  },
  {
   "cell_type": "code",
   "execution_count": null,
   "metadata": {},
   "outputs": [],
   "source": [
    "X = tf.placeholder(tf.float32)\n",
    "Y = tf.placeholder(tf.float32)\n",
    "\n",
    "W1 = tf.Variable(tf.random_uniform([2, 10], -1., 1.))\n",
    "L1 = tf.nn.relu(tf.matmul(X, W1))\n",
    "\n",
    "# 신경망 계층 늘리기\n",
    "# [10, 20] : 앞단 계층의 출력 크기 10, 뒷단 계층의 입력 크기 20\n",
    "W2 = tf.Variable(tf.random_uniform([10, 20], -1., 1.))\n",
    "L2 = tf.nn.relu(tf.matmul(L1, W2))\n",
    "\n",
    "W3 = tf.Variable(tf.random_uniform([20, 3], -1., 1.))\n",
    "model = tf.matmul(L2, W3)\n",
    "\n",
    "cost = tf.reduce_mean(\n",
    "    tf.nn.softmax_cross_entropy_with_logits_v2(labels=Y, logits=model))\n",
    "\n",
    "optimizer = tf.train.AdamOptimizer(learning_rate=0.01)\n",
    "\n",
    "# 최적화할 때마다 global_step 변수 값을 1씩 증가시킨다.\n",
    "train_op = optimizer.minimize(cost, global_step=global_step)"
   ]
  },
  {
   "cell_type": "code",
   "execution_count": null,
   "metadata": {},
   "outputs": [],
   "source": [
    "print(model)"
   ]
  },
  {
   "cell_type": "code",
   "execution_count": null,
   "metadata": {},
   "outputs": [],
   "source": [
    "# 모델 불러오기\n",
    "sess = tf.Session()\n",
    "# tf.global_variables() : 앞서 정의한 변수들을 가져오는 함수\n",
    "saver = tf.train.Saver(tf.global_variables())"
   ]
  },
  {
   "cell_type": "code",
   "execution_count": null,
   "metadata": {},
   "outputs": [],
   "source": [
    "# ./model 디렉토리에 기존에 학습해둔 모델이 있는지 확인\n",
    "ckpt = tf.train.get_checkpoint_state('./model')\n",
    "# 체크포인트 파일에 학습한 모델이 저장되어있는지 확인\n",
    "if ckpt and tf.train.checkpoint_exists(ckpt.model_checkpoint_path):\n",
    "    # 학습된 값들을 불러온다.\n",
    "    saver.restore(sess, ckpt.model_checkpoint_path)\n",
    "else:\n",
    "    # 존재하지 않으면 변수를 새로 초기화한다.\n",
    "    sess.run(tf.global_variables_initializer())"
   ]
  },
  {
   "cell_type": "code",
   "execution_count": null,
   "metadata": {},
   "outputs": [],
   "source": [
    "# 최적화를 수행한다.\n",
    "for step in range(2):\n",
    "    sess.run(train_op, feed_dict={X: x_data, Y: y_data})\n",
    "    \n",
    "    print('Step: %d, ' %sess.run(global_step),\n",
    "         'Cost: %.3f' %sess.run(cost, feed_dict={X: x_data, Y:y_data}))"
   ]
  },
  {
   "cell_type": "code",
   "execution_count": null,
   "metadata": {},
   "outputs": [],
   "source": [
    "# 학습된 변수들을 지정한 체크포인트 파일에 저장한다.\n",
    "saver.save(sess, './model/dnn.ckpt', global_step=global_step)"
   ]
  },
  {
   "cell_type": "code",
   "execution_count": null,
   "metadata": {},
   "outputs": [],
   "source": [
    "# 예측 결과와 정확도 확인\n",
    "prediction = tf.argmax(model, 1)\n",
    "target = tf.argmax(Y, 1)\n",
    "print('예측값: ', sess.run(prediction, feed_dict={X: x_data}))\n",
    "print('실제값: ', sess.run(target, feed_dict={Y: y_data}))\n",
    "\n",
    "is_correct = tf.equal(prediction, target)\n",
    "accuracy = tf.reduce_mean(tf.cast(is_correct, tf.float32))\n",
    "print('정확도: %2f' %sess.run(accuracy * 100, feed_dict={X: x_data, Y: y_data}))"
   ]
  },
  {
   "cell_type": "markdown",
   "metadata": {},
   "source": [
    "# 텐서보드 사용하기"
   ]
  },
  {
   "cell_type": "code",
   "execution_count": 1,
   "metadata": {},
   "outputs": [],
   "source": [
    "# 데이터를 읽어 들이고 변환\n",
    "import tensorflow as tf\n",
    "import numpy as np\n",
    "\n",
    "data = np.loadtxt('../Neural-Network-Implementation/data.csv',\n",
    "                  delimiter=',', unpack=True, dtype='float32')\n",
    "\n",
    "x_data = np.transpose(data[0:2])\n",
    "y_data = np.transpose(data[2:])\n",
    "\n",
    "# 신경망 모델 구성\n",
    "# global_step : 학습 횟수를 카운트하는 변수\n",
    "global_step = tf.Variable(0, trainable=False, name='global_step')\n",
    "\n",
    "X = tf.placeholder(tf.float32)\n",
    "Y = tf.placeholder(tf.float32)"
   ]
  },
  {
   "cell_type": "code",
   "execution_count": 2,
   "metadata": {},
   "outputs": [],
   "source": [
    "# with tf.name_scope 로 묶은 블록은 텐서보드에서 한 계층 내부를 표현해준다.\n",
    "with tf.name_scope('layer1'):\n",
    "    W1 = tf.Variable(tf.random_uniform([2, 10], -1., 1.), name='W1')\n",
    "    L1 = tf.nn.relu(tf.matmul(X, W1))\n",
    "with tf.name_scope('layer2'):\n",
    "    W2 = tf.Variable(tf.random_uniform([10, 20], -1., 1.), name='W2')\n",
    "    L2 = tf.nn.relu(tf.matmul(L1, W2))\n",
    "with tf.name_scope('output'):\n",
    "    W3 = tf.Variable(tf.random_uniform([20, 3], -1., 1.), name='W3')\n",
    "    model = tf.matmul(L2, W3)\n",
    "with tf.name_scope('optimizer'):\n",
    "    cost = tf.reduce_mean(\n",
    "        tf.nn.softmax_cross_entropy_with_logits_v2(labels=Y, logits=model))\n",
    "    optimizer = tf.train.AdamOptimizer(learning_rate=0.01)\n",
    "    train_op = optimizer.minimize(cost, global_step=global_step)\n",
    "    # 손실값을 추적하기 위해 수집할 값을 지정하는 코드를 작성한다.\n",
    "    # tf.summary.scalar : 값이 하나인 텐서를 수집할 때 사용한다.\n",
    "    tf.summary.scalar('cost', cost)"
   ]
  },
  {
   "cell_type": "code",
   "execution_count": 3,
   "metadata": {},
   "outputs": [],
   "source": [
    "# 모델 불러오기\n",
    "sess = tf.Session()\n",
    "# tf.global_variables() : 앞서 정의한 변수들을 가져오는 함수\n",
    "saver = tf.train.Saver(tf.global_variables())\n",
    "\n",
    "# ./model 디렉토리에 기존에 학습해둔 모델이 있는지 확인\n",
    "ckpt = tf.train.get_checkpoint_state('./model')\n",
    "# 체크포인트 파일에 학습한 모델이 저장되어있는지 확인\n",
    "if ckpt and tf.train.checkpoint_exists(ckpt.model_checkpoint_path):\n",
    "    # 학습된 값들을 불러온다.\n",
    "    saver.restore(sess, ckpt.model_checkpoint_path)\n",
    "else:\n",
    "    # 존재하지 않으면 변수를 새로 초기화한다.\n",
    "    sess.run(tf.global_variables_initializer())"
   ]
  },
  {
   "cell_type": "code",
   "execution_count": 4,
   "metadata": {},
   "outputs": [],
   "source": [
    "merged = tf.summary.merge_all()\n",
    "writer = tf.summary.FileWriter('./logs', sess.graph)"
   ]
  },
  {
   "cell_type": "code",
   "execution_count": 5,
   "metadata": {},
   "outputs": [
    {
     "name": "stdout",
     "output_type": "stream",
     "text": [
      "Step: 1 Cost: 0.895\n",
      "Step: 2 Cost: 0.849\n",
      "Step: 3 Cost: 0.808\n",
      "Step: 4 Cost: 0.778\n",
      "Step: 5 Cost: 0.755\n",
      "Step: 6 Cost: 0.742\n",
      "Step: 7 Cost: 0.725\n",
      "Step: 8 Cost: 0.711\n",
      "Step: 9 Cost: 0.700\n",
      "Step: 10 Cost: 0.689\n",
      "Step: 11 Cost: 0.678\n",
      "Step: 12 Cost: 0.668\n",
      "Step: 13 Cost: 0.659\n",
      "Step: 14 Cost: 0.650\n",
      "Step: 15 Cost: 0.642\n",
      "Step: 16 Cost: 0.633\n",
      "Step: 17 Cost: 0.625\n",
      "Step: 18 Cost: 0.617\n",
      "Step: 19 Cost: 0.610\n",
      "Step: 20 Cost: 0.604\n",
      "Step: 21 Cost: 0.597\n",
      "Step: 22 Cost: 0.592\n",
      "Step: 23 Cost: 0.587\n",
      "Step: 24 Cost: 0.582\n",
      "Step: 25 Cost: 0.578\n",
      "Step: 26 Cost: 0.575\n",
      "Step: 27 Cost: 0.572\n",
      "Step: 28 Cost: 0.569\n",
      "Step: 29 Cost: 0.567\n",
      "Step: 30 Cost: 0.565\n",
      "Step: 31 Cost: 0.563\n",
      "Step: 32 Cost: 0.561\n",
      "Step: 33 Cost: 0.560\n",
      "Step: 34 Cost: 0.559\n",
      "Step: 35 Cost: 0.558\n",
      "Step: 36 Cost: 0.557\n",
      "Step: 37 Cost: 0.556\n",
      "Step: 38 Cost: 0.556\n",
      "Step: 39 Cost: 0.555\n",
      "Step: 40 Cost: 0.554\n",
      "Step: 41 Cost: 0.554\n",
      "Step: 42 Cost: 0.554\n",
      "Step: 43 Cost: 0.553\n",
      "Step: 44 Cost: 0.553\n",
      "Step: 45 Cost: 0.553\n",
      "Step: 46 Cost: 0.552\n",
      "Step: 47 Cost: 0.552\n",
      "Step: 48 Cost: 0.552\n",
      "Step: 49 Cost: 0.552\n",
      "Step: 50 Cost: 0.552\n",
      "Step: 51 Cost: 0.552\n",
      "Step: 52 Cost: 0.551\n",
      "Step: 53 Cost: 0.551\n",
      "Step: 54 Cost: 0.551\n",
      "Step: 55 Cost: 0.551\n",
      "Step: 56 Cost: 0.551\n",
      "Step: 57 Cost: 0.551\n",
      "Step: 58 Cost: 0.551\n",
      "Step: 59 Cost: 0.551\n",
      "Step: 60 Cost: 0.551\n",
      "Step: 61 Cost: 0.551\n",
      "Step: 62 Cost: 0.551\n",
      "Step: 63 Cost: 0.551\n",
      "Step: 64 Cost: 0.551\n",
      "Step: 65 Cost: 0.551\n",
      "Step: 66 Cost: 0.550\n",
      "Step: 67 Cost: 0.550\n",
      "Step: 68 Cost: 0.550\n",
      "Step: 69 Cost: 0.550\n",
      "Step: 70 Cost: 0.550\n",
      "Step: 71 Cost: 0.550\n",
      "Step: 72 Cost: 0.550\n",
      "Step: 73 Cost: 0.550\n",
      "Step: 74 Cost: 0.550\n",
      "Step: 75 Cost: 0.550\n",
      "Step: 76 Cost: 0.550\n",
      "Step: 77 Cost: 0.550\n",
      "Step: 78 Cost: 0.550\n",
      "Step: 79 Cost: 0.550\n",
      "Step: 80 Cost: 0.550\n",
      "Step: 81 Cost: 0.550\n",
      "Step: 82 Cost: 0.550\n",
      "Step: 83 Cost: 0.550\n",
      "Step: 84 Cost: 0.550\n",
      "Step: 85 Cost: 0.550\n",
      "Step: 86 Cost: 0.550\n",
      "Step: 87 Cost: 0.550\n",
      "Step: 88 Cost: 0.550\n",
      "Step: 89 Cost: 0.550\n",
      "Step: 90 Cost: 0.550\n",
      "Step: 91 Cost: 0.550\n",
      "Step: 92 Cost: 0.550\n",
      "Step: 93 Cost: 0.550\n",
      "Step: 94 Cost: 0.550\n",
      "Step: 95 Cost: 0.550\n",
      "Step: 96 Cost: 0.550\n",
      "Step: 97 Cost: 0.550\n",
      "Step: 98 Cost: 0.550\n",
      "Step: 99 Cost: 0.550\n",
      "Step: 100 Cost: 0.550\n"
     ]
    },
    {
     "data": {
      "text/plain": [
       "'./model/dnn.ckpt-100'"
      ]
     },
     "execution_count": 5,
     "metadata": {},
     "output_type": "execute_result"
    }
   ],
   "source": [
    "for step in range(100):\n",
    "    sess.run(train_op, feed_dict={X: x_data, Y: y_data})\n",
    "    \n",
    "    print('Step: %d' %sess.run(global_step),\n",
    "         'Cost: %.3f' %sess.run(cost, feed_dict={X: x_data, Y: y_data}))\n",
    "    summary = sess.run(merged, feed_dict={X: x_data, Y: y_data})\n",
    "    writer.add_summary(summary, global_step=sess.run(global_step))\n",
    "\n",
    "saver.save(sess, './model/dnn.ckpt', global_step=global_step)"
   ]
  },
  {
   "cell_type": "code",
   "execution_count": 6,
   "metadata": {},
   "outputs": [
    {
     "name": "stdout",
     "output_type": "stream",
     "text": [
      "예측값:  [0 1 2 0 0 2]\n",
      "실제값:  [0 1 2 0 0 2]\n",
      "정확도: 100.00\n"
     ]
    }
   ],
   "source": [
    "prediction = tf.argmax(model, 1)\n",
    "target = tf.argmax(Y, 1)\n",
    "print('예측값: ', sess.run(prediction, feed_dict={X: x_data}))\n",
    "print('실제값: ', sess.run(target, feed_dict={Y: y_data}))\n",
    "\n",
    "is_correct = tf.equal(prediction, target)\n",
    "accuracy = tf.reduce_mean(tf.cast(is_correct, tf.float32))\n",
    "print('정확도: %.2f' %sess.run(accuracy * 100, feed_dict={X: x_data, Y: y_data}))"
   ]
  },
  {
   "cell_type": "code",
   "execution_count": 7,
   "metadata": {},
   "outputs": [
    {
     "data": {
      "text/plain": [
       "<tf.Tensor 'Weights:0' shape=() dtype=string>"
      ]
     },
     "execution_count": 7,
     "metadata": {},
     "output_type": "execute_result"
    }
   ],
   "source": [
    "tf.summary.histogram('Weights', W1)"
   ]
  },
  {
   "cell_type": "code",
   "execution_count": null,
   "metadata": {},
   "outputs": [],
   "source": []
  }
 ],
 "metadata": {
  "kernelspec": {
   "display_name": "Python 3",
   "language": "python",
   "name": "python3"
  },
  "language_info": {
   "codemirror_mode": {
    "name": "ipython",
    "version": 3
   },
   "file_extension": ".py",
   "mimetype": "text/x-python",
   "name": "python",
   "nbconvert_exporter": "python",
   "pygments_lexer": "ipython3",
   "version": "3.7.2"
  }
 },
 "nbformat": 4,
 "nbformat_minor": 2
}
