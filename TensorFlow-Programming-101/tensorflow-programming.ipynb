{
 "cells": [
  {
   "cell_type": "markdown",
   "metadata": {},
   "source": [
    "# 텐서와 그래프 실행"
   ]
  },
  {
   "cell_type": "code",
   "execution_count": 6,
   "metadata": {},
   "outputs": [],
   "source": [
    "# 텐서플로 import\n",
    "import tensorflow as tf"
   ]
  },
  {
   "cell_type": "code",
   "execution_count": 3,
   "metadata": {},
   "outputs": [
    {
     "name": "stdout",
     "output_type": "stream",
     "text": [
      "Tensor(\"Const:0\", shape=(), dtype=string)\n"
     ]
    }
   ],
   "source": [
    "# 상수를 hello 변수에 저장\n",
    "hello = tf.constant('Hello, TensorFlow!')\n",
    "print(hello)"
   ]
  },
  {
   "cell_type": "markdown",
   "metadata": {},
   "source": [
    "hello가 텐서플로의 **텐서** 라는 자료형을 담고 있다\n",
    "**텐서는** 텐서플로에서 다양한 수학식을 계산하기 위한 가장 기본적이고 중요한 자료형이다.\n",
    "다음과 같이 **랭크(Rank)** 와 **셰이프(Shape)** 라는 개념을 가지고 있다.\n",
    "\n",
    "</bn>\n",
    "\n",
    "```python\n",
    "3                              # 랭크가 0인 텐서, 셰이프는 []\n",
    "[1., 2., 3.]                   # 랭크가 1인 텐서, 셰이프는 [3]\n",
    "[[1., 2., 3.], [4., 5., 6.]]   # 랭크가 2인 텐서, 셰이프는 [2, 3]\n",
    "```\n",
    "> 텐서 자료형의 형태는 배열과 비슷하다고 생각하면 된다.\n",
    "\n",
    "</bn>\n",
    "\n",
    "**dtype** 은 해당 텐서에 담긴 요소들의 자료형이다. ex) string, float, int\n"
   ]
  },
  {
   "cell_type": "code",
   "execution_count": 4,
   "metadata": {},
   "outputs": [
    {
     "name": "stdout",
     "output_type": "stream",
     "text": [
      "Tensor(\"Add:0\", shape=(), dtype=int32)\n"
     ]
    }
   ],
   "source": [
    "# 텐서를 이용한 덧셈\n",
    "a = tf.constant(10)\n",
    "b = tf.constant(32)\n",
    "c = tf.add(a, b)\n",
    "print(c)"
   ]
  },
  {
   "cell_type": "markdown",
   "metadata": {},
   "source": [
    "42가 나올 것으로 생각할 수 있지만, 위와 같이 텐서의 형태로 출력된다.\n",
    "왜냐하면 텐서플로 프로그램의 구조는 **그래프의 생성과 그래프 실행** 으로 구성되어 있다.\n",
    "\n",
    "<br>\n",
    "\n",
    "* **그래프** : 텐서들의 연산 모음. 연산이 필요할 때만 실행하는 코드를 넣어 <u>원하는 시점</u> 에 실제 연산을 수행하도록 한다.\n",
    "* **그래프 실행** : Session 객체와 run 메소드를 이용하면 된다."
   ]
  },
  {
   "cell_type": "code",
   "execution_count": 5,
   "metadata": {},
   "outputs": [
    {
     "name": "stdout",
     "output_type": "stream",
     "text": [
      "b'Hello, TensorFlow!'\n",
      "[10, 32, 42]\n"
     ]
    },
    {
     "data": {
      "text/plain": [
       "<bound method BaseSession.close of <tensorflow.python.client.session.Session object at 0x13edb22e8>>"
      ]
     },
     "execution_count": 5,
     "metadata": {},
     "output_type": "execute_result"
    }
   ],
   "source": [
    "sess = tf.Session()\n",
    "\n",
    "print(sess.run(hello))\n",
    "print(sess.run([a, b, c]))\n",
    "\n",
    "sess.close"
   ]
  },
  {
   "cell_type": "markdown",
   "metadata": {},
   "source": [
    "# 플레이스홀더와 변수\n",
    "**플레이스홀더** : 그래프에 사용할 입력값을 나중에 받기 위해 사용하는 매개변수\n",
    "**변수** : 그래프를 최적화하는 용도로 텐서플로가 학습한 결과를 갱신하기 위해 사용하는 변수"
   ]
  },
  {
   "cell_type": "code",
   "execution_count": 7,
   "metadata": {},
   "outputs": [
    {
     "name": "stdout",
     "output_type": "stream",
     "text": [
      "Tensor(\"Placeholder:0\", shape=(?, 3), dtype=float32)\n"
     ]
    }
   ],
   "source": [
    "# 플레이스홀더 사용\n",
    "X = tf.placeholder(tf.float32, [None, 3])\n",
    "print(X)"
   ]
  },
  {
   "cell_type": "code",
   "execution_count": 8,
   "metadata": {},
   "outputs": [],
   "source": [
    "# X에 넣을 자료 정의\n",
    "x_data = [[1, 2, 3], [4, 5, 6]]"
   ]
  },
  {
   "cell_type": "code",
   "execution_count": 9,
   "metadata": {},
   "outputs": [],
   "source": [
    "# 변수 정의\n",
    "# tf.random_normal : 정규분포의 무작위 값으로 최고화\n",
    "W = tf.Variable(tf.random_normal([3, 2]))\n",
    "b = tf.Variable(tf.random_normal([2, 1]))"
   ]
  },
  {
   "cell_type": "code",
   "execution_count": 10,
   "metadata": {},
   "outputs": [],
   "source": [
    "# 행렬 곱셈 실행\n",
    "expr = tf.matmul(X, W) + b"
   ]
  },
  {
   "cell_type": "markdown",
   "metadata": {},
   "source": [
    "텐서플로로 딥러닝을 하기 위해서는 **행렬곱** 정의를 알아야 한다.\n",
    "* 행렬곱 A x B 에 대하여, 행렬 A의 열 수와 행렬 B의 행 수는 같아야 한다.\n",
    "* 행렬곱 A x B 를 계산한 행렬 AB의 크기는 A의 행 개수와 B의 열 개수가 된다."
   ]
  },
  {
   "cell_type": "code",
   "execution_count": 14,
   "metadata": {},
   "outputs": [
    {
     "name": "stdout",
     "output_type": "stream",
     "text": [
      "=== x_data ===\n",
      "[[1, 2, 3], [4, 5, 6]]\n",
      "=== W ===\n",
      "[[ 1.531472   -0.3050664 ]\n",
      " [-0.5783791   0.34761742]\n",
      " [-1.0846007   1.8864685 ]]\n",
      "=== b ===\n",
      "[[1.7106379 ]\n",
      " [0.46165705]]\n",
      "=== expr ===\n",
      "[[-1.1684505  7.760212 ]\n",
      " [-2.8119547 12.29829  ]]\n"
     ]
    },
    {
     "data": {
      "text/plain": [
       "<bound method BaseSession.close of <tensorflow.python.client.session.Session object at 0x13e9a8160>>"
      ]
     },
     "execution_count": 14,
     "metadata": {},
     "output_type": "execute_result"
    }
   ],
   "source": [
    "sess = tf.Session()\n",
    "sess.run(tf.global_variables_initializer()) # 정의한 변수들을 초기화\n",
    "\n",
    "print(\"=== x_data ===\")\n",
    "print(x_data)\n",
    "print(\"=== W ===\")\n",
    "print(sess.run(W))\n",
    "print(\"=== b ===\")\n",
    "print(sess.run(b))\n",
    "print(\"=== expr ===\")\n",
    "print(sess.run(expr, feed_dict={X: x_data})) # feed_dict : 그래프를 실행할 때 사용할 입력값을 지정\n",
    "\n",
    "sess.close"
   ]
  },
  {
   "cell_type": "markdown",
   "metadata": {},
   "source": [
    "# 선형 회귀 모델 구현하기\n",
    "**선형 회귀** : 주어진 x 와 y 값을 가지고 서로 간의 관계를 파악하는 것입니다. x 값이 주어졌을 때 y 값을 쉽게 알 수 있다.\n",
    "\n",
    "<br>\n",
    "    \n",
    "x_data 와 y_data의 상관관계를 파악해보자."
   ]
  },
  {
   "cell_type": "code",
   "execution_count": 15,
   "metadata": {},
   "outputs": [],
   "source": [
    "x_data = [1, 2, 3]\n",
    "y_data = [1, 2, 3]"
   ]
  },
  {
   "cell_type": "code",
   "execution_count": 16,
   "metadata": {},
   "outputs": [],
   "source": [
    "# -1.0 ~ 1.0 사이의 균등분포를 가진 무작위 값으로 초기화\n",
    "W = tf.Variable(tf.random_uniform([1], -1.0, 1.0))\n",
    "b = tf.Variable(tf.random_uniform([1], -1.0, 1.0))"
   ]
  },
  {
   "cell_type": "code",
   "execution_count": 18,
   "metadata": {},
   "outputs": [
    {
     "name": "stdout",
     "output_type": "stream",
     "text": [
      "Tensor(\"X_1:0\", dtype=float32)\n",
      "Tensor(\"Y_1:0\", dtype=float32)\n"
     ]
    }
   ],
   "source": [
    "# 자료를 입력받을 플레이스홀더를 설정\n",
    "X = tf.placeholder(tf.float32, name=\"X\") # name 매개변수로 플레이스홀더의 이름을 설정한다.\n",
    "Y = tf.placeholder(tf.float32, name=\"Y\")\n",
    "\n",
    "print(X)\n",
    "print(Y)"
   ]
  },
  {
   "cell_type": "code",
   "execution_count": 19,
   "metadata": {},
   "outputs": [],
   "source": [
    "# X와 Y의 상관관계(선형관계)를 분석하기 위한 수식 작성\n",
    "hypothesis = W * X + b"
   ]
  },
  {
   "cell_type": "markdown",
   "metadata": {},
   "source": [
    "이 수식은 W와의 곱과 b와의 합을 통해 **X와 Y의 관계를** 설명하겠다는 뜻이다.\n",
    "즉, X가 주어졌을 때 Y를 만들어 낼 수 있는 W와 b를 찾아내겠다는 의미이다.\n",
    "* **W** : 가중치\n",
    "* **b** : 편향\n",
    "> 이 수식은 선형 회귀는 물론 신경망 학습에 가장 기본이 되는 수식이다.\n",
    "\n",
    "<br>\n",
    "\n",
    "손실 함수를 작성해보자.\n",
    "* **손실 함수(loss function)** : 한 쌍(x,y)의 데이터에 대한 **손실값**을 계산하는 함수이다.\n",
    "* 손실값 : 실제값과 모델로 예측한 값이 얼마나 차이가 나는지를 나타내는 값\n",
    "> 손실값이 작을수록 X와 Y의 관계가 잘 설명되고 있는 것이며, X 값에 대한 Y 값을 정확하게 예측할 수 있다는 뜻이다.\n",
    "* **비용(cost)** : 손실을 전체 데이터에 대해 구한 경우\n",
    "> 즉 **학습**이란 변수들의 값을 다양하게 넣어 계산해보면서 이 손실값을 최소화하는 것이다."
   ]
  },
  {
   "cell_type": "code",
   "execution_count": 20,
   "metadata": {},
   "outputs": [],
   "source": [
    "# 손실값 = (예측값 - 실제값)^2\n",
    "# 모든 데이터에 대한 손실값의 평균을 낸다.\n",
    "cost = tf.reduce_mean(tf.square(hypothesis - Y))"
   ]
  },
  {
   "cell_type": "code",
   "execution_count": 21,
   "metadata": {},
   "outputs": [
    {
     "name": "stdout",
     "output_type": "stream",
     "text": [
      "Tensor(\"Mean:0\", shape=(), dtype=float32)\n"
     ]
    }
   ],
   "source": [
    "print(cost)"
   ]
  },
  {
   "cell_type": "code",
   "execution_count": null,
   "metadata": {},
   "outputs": [],
   "source": []
  }
 ],
 "metadata": {
  "kernelspec": {
   "display_name": "Python 3",
   "language": "python",
   "name": "python3"
  },
  "language_info": {
   "codemirror_mode": {
    "name": "ipython",
    "version": 3
   },
   "file_extension": ".py",
   "mimetype": "text/x-python",
   "name": "python",
   "nbconvert_exporter": "python",
   "pygments_lexer": "ipython3",
   "version": "3.7.2"
  }
 },
 "nbformat": 4,
 "nbformat_minor": 2
}
