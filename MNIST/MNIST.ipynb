{
 "cells": [
  {
   "cell_type": "code",
   "execution_count": 1,
   "metadata": {},
   "outputs": [
    {
     "name": "stderr",
     "output_type": "stream",
     "text": [
      "WARNING: Logging before flag parsing goes to stderr.\n",
      "W0718 18:22:51.069678 4712998336 deprecation.py:323] From <ipython-input-1-6afd7b0cdff5>:4: read_data_sets (from tensorflow.contrib.learn.python.learn.datasets.mnist) is deprecated and will be removed in a future version.\n",
      "Instructions for updating:\n",
      "Please use alternatives such as official/mnist/dataset.py from tensorflow/models.\n",
      "W0718 18:22:51.070480 4712998336 deprecation.py:323] From /usr/local/lib/python3.7/site-packages/tensorflow/contrib/learn/python/learn/datasets/mnist.py:260: maybe_download (from tensorflow.contrib.learn.python.learn.datasets.base) is deprecated and will be removed in a future version.\n",
      "Instructions for updating:\n",
      "Please write your own downloading logic.\n",
      "W0718 18:22:51.071270 4712998336 deprecation.py:323] From /usr/local/lib/python3.7/site-packages/tensorflow/contrib/learn/python/learn/datasets/mnist.py:262: extract_images (from tensorflow.contrib.learn.python.learn.datasets.mnist) is deprecated and will be removed in a future version.\n",
      "Instructions for updating:\n",
      "Please use tf.data to implement this functionality.\n",
      "W0718 18:22:51.238251 4712998336 deprecation.py:323] From /usr/local/lib/python3.7/site-packages/tensorflow/contrib/learn/python/learn/datasets/mnist.py:267: extract_labels (from tensorflow.contrib.learn.python.learn.datasets.mnist) is deprecated and will be removed in a future version.\n",
      "Instructions for updating:\n",
      "Please use tf.data to implement this functionality.\n",
      "W0718 18:22:51.239660 4712998336 deprecation.py:323] From /usr/local/lib/python3.7/site-packages/tensorflow/contrib/learn/python/learn/datasets/mnist.py:110: dense_to_one_hot (from tensorflow.contrib.learn.python.learn.datasets.mnist) is deprecated and will be removed in a future version.\n",
      "Instructions for updating:\n",
      "Please use tf.one_hot on tensors.\n",
      "W0718 18:22:51.270094 4712998336 deprecation.py:323] From /usr/local/lib/python3.7/site-packages/tensorflow/contrib/learn/python/learn/datasets/mnist.py:290: DataSet.__init__ (from tensorflow.contrib.learn.python.learn.datasets.mnist) is deprecated and will be removed in a future version.\n",
      "Instructions for updating:\n",
      "Please use alternatives such as official/mnist/dataset.py from tensorflow/models.\n"
     ]
    },
    {
     "name": "stdout",
     "output_type": "stream",
     "text": [
      "Extracting ./mnist/data/train-images-idx3-ubyte.gz\n",
      "Extracting ./mnist/data/train-labels-idx1-ubyte.gz\n",
      "Extracting ./mnist/data/t10k-images-idx3-ubyte.gz\n",
      "Extracting ./mnist/data/t10k-labels-idx1-ubyte.gz\n"
     ]
    }
   ],
   "source": [
    "# MNIST 데이터셋 사용\n",
    "import tensorflow as tf\n",
    "from tensorflow.examples.tutorials.mnist import input_data\n",
    "mnist = input_data.read_data_sets('./mnist/data/', one_hot=True)"
   ]
  },
  {
   "cell_type": "code",
   "execution_count": 2,
   "metadata": {},
   "outputs": [],
   "source": [
    "# 28 x 28 = 784개의 특징으로 이뤄져있다\n",
    "# 레이블은 0부터 9까지이므로 10개의 분류로 나누면 된다.\n",
    "X = tf.placeholder(tf.float32, [None, 784])\n",
    "Y = tf.placeholder(tf.float32, [None, 10])"
   ]
  },
  {
   "cell_type": "markdown",
   "metadata": {},
   "source": [
    "**미니배치(minibatch)** : 데이터를 적당한 크기로 잘라서 학습시키는 방법\n",
    "위의 코드에서 None으로 되어 있는 부분이 한 번에 학습시킬 MNIST 이미지의 개수를 지정하는 값이 들어간다. 즉 배치 크기를 지정하는 자리이다.\n",
    "이 자리에 정확히 명시해줘도 되지만 None으로 넣어주면 텐서플로가 알아서 계산한다.\n",
    "\n",
    "</br>\n",
    "\n",
    "이제 2개의 은닉층이 다음처럼 구성된 신경망을 만들어보겠습니다.\n",
    "784(입력, 특징 개수) -> 256(첫 번째 은닉층 뉴런 개수) -> 256(두 번째 은닉층 뉴런 개수) -> 10(결괏값 0~9 분류개수)"
   ]
  },
  {
   "cell_type": "code",
   "execution_count": 3,
   "metadata": {},
   "outputs": [],
   "source": [
    "W1 = tf.Variable(tf.random_normal([784, 256], stddev=0.01))\n",
    "L1 = tf.nn.relu(tf.matmul(X, W1))\n",
    "\n",
    "W2 = tf.Variable(tf.random_normal([256, 256], stddev=0.01))\n",
    "L2 = tf.nn.relu(tf.matmul(L1, W2))\n",
    "\n",
    "# 표준 편차가 0.01인 정규 분포를 가지는 임의의 값으로 뉴런(변수)을 초기화시킨다.\n",
    "W3 = tf.Variable(tf.random_normal([256, 10], stddev=0.01))\n",
    "model = tf.matmul(L2, W3)"
   ]
  },
  {
   "cell_type": "code",
   "execution_count": 4,
   "metadata": {},
   "outputs": [],
   "source": [
    "# tf.nn.softmax_cross_entropy_with_logits : 각 이미지에 대한 손실값을 구함\n",
    "# tf.train.AdamOptimizer : 이 손실값을 최소화하는 최적화를 수행하도록 그래프 구성\n",
    "cost = tf.reduce_mean(tf.nn.softmax_cross_entropy_with_logits_v2(logits=model, labels=Y))\n",
    "optimizer = tf.train.AdamOptimizer(0.001).minimize(cost)"
   ]
  },
  {
   "cell_type": "code",
   "execution_count": 5,
   "metadata": {},
   "outputs": [],
   "source": [
    "# 신경망 모델 초기화하고 학습 진행할 세션 시작\n",
    "init = tf.global_variables_initializer()\n",
    "sess = tf.Session()\n",
    "sess.run(init)"
   ]
  },
  {
   "cell_type": "markdown",
   "metadata": {},
   "source": [
    "# 학습용 데이터와 테스트용 데이터\n",
    "**학습 데이터** : 학습을 시킬 때 사용하는 데이터 \n",
    "\n",
    "**테스트 데이터** : 학습이 잘 되었는지 확인하는 데이터"
   ]
  },
  {
   "cell_type": "code",
   "execution_count": 6,
   "metadata": {},
   "outputs": [],
   "source": [
    "# 미니배치의 크기를 100으로 설정\n",
    "batch_size = 100\n",
    "total_batch = int(mnist.train.num_examples / batch_size)"
   ]
  },
  {
   "cell_type": "code",
   "execution_count": 13,
   "metadata": {},
   "outputs": [
    {
     "name": "stdout",
     "output_type": "stream",
     "text": [
      "Epoch:  0001 Avg. cost =  0.005\n",
      "Epoch:  0002 Avg. cost =  0.005\n",
      "Epoch:  0003 Avg. cost =  0.005\n",
      "Epoch:  0004 Avg. cost =  0.009\n",
      "Epoch:  0005 Avg. cost =  0.004\n",
      "Epoch:  0006 Avg. cost =  0.007\n",
      "Epoch:  0007 Avg. cost =  0.004\n",
      "Epoch:  0008 Avg. cost =  0.006\n",
      "Epoch:  0009 Avg. cost =  0.004\n",
      "Epoch:  0010 Avg. cost =  0.005\n",
      "Epoch:  0011 Avg. cost =  0.007\n",
      "Epoch:  0012 Avg. cost =  0.004\n",
      "Epoch:  0013 Avg. cost =  0.001\n",
      "Epoch:  0014 Avg. cost =  0.003\n",
      "Epoch:  0015 Avg. cost =  0.007\n",
      "Epoch:  0016 Avg. cost =  0.007\n",
      "Epoch:  0017 Avg. cost =  0.004\n",
      "Epoch:  0018 Avg. cost =  0.001\n",
      "Epoch:  0019 Avg. cost =  0.006\n",
      "Epoch:  0020 Avg. cost =  0.003\n",
      "Epoch:  0021 Avg. cost =  0.004\n",
      "Epoch:  0022 Avg. cost =  0.007\n",
      "Epoch:  0023 Avg. cost =  0.004\n",
      "Epoch:  0024 Avg. cost =  0.005\n",
      "Epoch:  0025 Avg. cost =  0.003\n",
      "Epoch:  0026 Avg. cost =  0.001\n",
      "Epoch:  0027 Avg. cost =  0.004\n",
      "Epoch:  0028 Avg. cost =  0.005\n",
      "Epoch:  0029 Avg. cost =  0.005\n",
      "Epoch:  0030 Avg. cost =  0.002\n",
      "최적화 완료!\n"
     ]
    }
   ],
   "source": [
    "for epoch in range(30):\n",
    "    total_cost = 0\n",
    "    \n",
    "    # 미니배치의 총 개수만큼 반복하여 학습한다.\n",
    "    for i in range(total_batch):\n",
    "        # mnist.train.next_batch(batch_size) : 학습할 데이터를 배치 크기만큼\n",
    "        # 가져온 뒤, 입력값인 이미지 데이터는 batch_xs에,\n",
    "        # 출력값인 레이블 데이터는 batch_ys에 저장한다.\n",
    "        batch_xs, batch_ys = mnist.train.next_batch(batch_size)\n",
    "        \n",
    "        # 최적화시키고 손실값을 가져와서 저장한다.\n",
    "        _, cost_val = sess.run([optimizer, cost],\n",
    "            feed_dict={X: batch_xs, Y: batch_ys})\n",
    "        \n",
    "        total_cost += cost_val\n",
    "        \n",
    "    print('Epoch: ', '%04d' %(epoch + 1),\n",
    "         'Avg. cost = ', '{:.3f}' .format(total_cost/total_batch))\n",
    "    \n",
    "print('최적화 완료!')"
   ]
  },
  {
   "cell_type": "code",
   "execution_count": 9,
   "metadata": {},
   "outputs": [
    {
     "name": "stdout",
     "output_type": "stream",
     "text": [
      "Tensor(\"Equal:0\", shape=(?,), dtype=bool)\n"
     ]
    }
   ],
   "source": [
    "# 예측 결과인 model의 값과 실제 레비을인 Y의 값을 비교한다.\n",
    "is_correct = tf.equal(tf.argmax(model, 1), tf.argmax(Y, 1))\n",
    "print(is_correct)"
   ]
  },
  {
   "cell_type": "code",
   "execution_count": 10,
   "metadata": {},
   "outputs": [
    {
     "name": "stdout",
     "output_type": "stream",
     "text": [
      "정확도 0.9778\n"
     ]
    }
   ],
   "source": [
    "# tf.cast : is_correct를 0과 1로 변환한다.\n",
    "# 변환한 값들을 tf.reduce_mean을 이용해 평균을 낸 값이 정확도가 된다.\n",
    "accuracy = tf.reduce_mean(tf.cast(is_correct, tf.float32))\n",
    "print('정확도', sess.run(accuracy, feed_dict={X: mnist.test.images,\n",
    "                                          Y: mnist.test.labels}))"
   ]
  },
  {
   "cell_type": "markdown",
   "metadata": {},
   "source": [
    "# 드롭아웃\n",
    "**과적합** : 학습한 결과가 학습 데이터에는 매우 잘 맞지만, 학습 데이터에만 너무 꼭 맞춰져 있어서 그외의 데이터에는 잘 맞지 않는 상황\n",
    "* 과적합 문제를 해결하기 위한 방법 중에 하나가 **드롭아웃**이다.\n",
    "\n",
    "</br>\n",
    "\n",
    "## 드롭아웃의 원리\n",
    "학습 시 전체 신경망 중 일부만을 사용하도록 하는 것이다. 즉, 학습 단계마다 일부 뉴런을 제거함으로써, 일부 특징이 특정 뉴런들에게 고정되는 것을 막아 가중치의 균형을 잡도록 한다."
   ]
  },
  {
   "cell_type": "code",
   "execution_count": 11,
   "metadata": {},
   "outputs": [
    {
     "name": "stderr",
     "output_type": "stream",
     "text": [
      "W0718 18:23:36.999802 4712998336 deprecation.py:506] From <ipython-input-11-53b80e3f12d6>:9: calling dropout (from tensorflow.python.ops.nn_ops) with keep_prob is deprecated and will be removed in a future version.\n",
      "Instructions for updating:\n",
      "Please use `rate` instead of `keep_prob`. Rate should be set to `rate = 1 - keep_prob`.\n"
     ]
    },
    {
     "name": "stdout",
     "output_type": "stream",
     "text": [
      "정확도:  0.9777\n"
     ]
    }
   ],
   "source": [
    "### 학습이 끝난 뒤의 예측 시에는 신경망 전체를 사용하도록 해줘야하기 때문에\n",
    "# keep_prob라는 플레이스홀더를 만들어 학습 시에는 0.8을 넣고\n",
    "# 예측 시에는 1을 넣어 신경망 전체를 사용하도록 한다.\n",
    "keep_prob = tf.placeholder(tf.float32)\n",
    "\n",
    "W1 = tf.Variable(tf.random_normal([784, 256], stddev=0.01))\n",
    "L1 = tf.nn.relu(tf.matmul(X, W1))\n",
    "# tf.nn.dropout의 두 번째 파라미터는 뉴런의 비율이다.\n",
    "L1 = tf.nn.dropout(L1, keep_prob)\n",
    "\n",
    "W2 = tf.Variable(tf.random_normal([256, 256], stddev=0.01))\n",
    "L2 = tf.nn.relu(tf.matmul(L1, W2))\n",
    "L2 = tf.nn.dropout(L2, keep_prob)\n",
    "\n",
    "# 학습 코드: keep_prob를 0.8로 넣어줌\n",
    "_, cost_val = sess.run([optimizer, cost],\n",
    "                      feed_dict={X: batch_xs,\n",
    "                                Y: batch_ys,\n",
    "                                keep_prob: 0.8})\n",
    "\n",
    "# 예측 코드: keep_prob를 1로 넣어줌\n",
    "print('정확도: ', sess.run(accuracy,\n",
    "                       feed_dict={X: mnist.test.images,\n",
    "                                 Y: mnist.test.labels,\n",
    "                                 keep_prob: 1}))"
   ]
  },
  {
   "cell_type": "markdown",
   "metadata": {},
   "source": [
    "# matplotlib\n",
    "**matplotlib** : 시각화를 위해 그래프를 쉽게 그릴 수 있도록 해주는 파이썬 라이브러리이다."
   ]
  },
  {
   "cell_type": "code",
   "execution_count": 14,
   "metadata": {},
   "outputs": [
    {
     "data": {
      "image/png": "[encoded data removed]",
      "text/plain": [
       "<Figure size 432x288 with 10 Axes>"
      ]
     },
     "metadata": {},
     "output_type": "display_data"
    }
   ],
   "source": [
    "import matplotlib.pyplot as plt\n",
    "import numpy as np\n",
    "# 테스트 데이터를 이용해 예측 모델을 실행하고 결괏값을 labels에 저장\n",
    "labels = sess.run(model,\n",
    "                 feed_dict={X: mnist.test.images,\n",
    "                           Y: mnist.test.labels,\n",
    "                           keep_prob: 1})\n",
    "\n",
    "# 손글씨를 출력할 그래프\n",
    "fig = plt.figure()\n",
    "\n",
    "for i in range(10):\n",
    "    # 2행 5열의 그래프를 만들고, i+1 번 째에 숫자 이미지를 출력한다.\n",
    "    subplot = fig.add_subplot(2, 5, i + 1)\n",
    "    # 이미지를 깨끗하게 출력하기 위해 x와 y의 눈금을 출력하지 않는다.\n",
    "    subplot.set_xticks([])\n",
    "    subplot.set_yticks([])\n",
    "    # 출력한 이미지 위에 예측한 숫자를 출력한다.\n",
    "    # np.argmax는 tf.argmax와 같은 기능의 함수이다.\n",
    "    # 결과값인 labels의 i번째 요소가 원-핫 인코딩 형식으로 되어 있으므로,\n",
    "    # 해당 배열에서 가장 높은 값을 가진 인덱스를 예측한 숫자로 출력한다.\n",
    "    subplot.set_title('%d' %np.argmax(labels[i]))\n",
    "    # 1차원 배열로 되어 있는 i번째 이미지 데이터를\n",
    "    # 28 * 28 형식의 2차원 배열로 변형하여 이미지 형태로 출력한다\n",
    "    # cmap 파라미터를 통해 이미지를 그레이스케일로 출력한다.\n",
    "    subplot.imshow(mnist.test.images[i].reshape((28, 28)),\n",
    "                   cmap=plt.cm.gray_r)\n",
    "\n",
    "# 그래프 출력\n",
    "plt.show()"
   ]
  },
  {
   "cell_type": "code",
   "execution_count": null,
   "metadata": {},
   "outputs": [],
   "source": []
  }
 ],
 "metadata": {
  "kernelspec": {
   "display_name": "Python 3",
   "language": "python",
   "name": "python3"
  },
  "language_info": {
   "codemirror_mode": {
    "name": "ipython",
    "version": 3
   },
   "file_extension": ".py",
   "mimetype": "text/x-python",
   "name": "python",
   "nbconvert_exporter": "python",
   "pygments_lexer": "ipython3",
   "version": "3.7.2"
  }
 },
 "nbformat": 4,
 "nbformat_minor": 2
}
