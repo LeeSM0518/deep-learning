{
 "cells": [
  {
   "cell_type": "markdown",
   "metadata": {},
   "source": [
    "# 단어 자동 완성\n",
    "* 단어를 자동 완성하는 프로그램 구현\n",
    "  * 영문자 4개로 구성된 단어를 학습시켜, 3글자만 주어지면 나머지 한 글자를 추천하여 단어를 완성하는 프로그램\n",
    "  \n",
    "<img src=\"https://sunghan-kim.github.io/assets/images/book/3minDL/ch10-04-word-autocomplete-rnn-model.jpg\">\n",
    "  \n",
    "<br>\n",
    "  \n",
    "* **학습시킬 데이터** : 영문자로 구성된 임의의 단어\n",
    "* **학습 단계** : 한글자씩이 학습 단계가 된다.\n",
    " * 한글자가 한 단계의 입력값이 되고, 총 글자 수가 전체 단계가 된다."
   ]
  },
  {
   "cell_type": "markdown",
   "metadata": {},
   "source": [
    "---\n",
    "\n",
    "<b>\n",
    "\n",
    "## 알파벳들과 연관 딕셔너리 생성\n",
    "1. 알파벳을 리스트에 넣는다.\n",
    "2. 알파벳에 대한 인덱스를 구할 수 있는 딕셔너리를 만든다."
   ]
  },
  {
   "cell_type": "code",
   "execution_count": 1,
   "metadata": {},
   "outputs": [],
   "source": [
    "import tensorflow as tf\n",
    "import numpy as np\n",
    "\n",
    "char_arr = ['a', 'b', 'c', 'd', 'e', 'f', 'g',\n",
    "           'h', 'i', 'j', 'k', 'l', 'm', 'n',\n",
    "           'o', 'p', 'q', 'r', 's', 't', 'u',\n",
    "           'v', 'w', 'x', 'y', 'z']\n",
    "\n",
    "# {'a': 0, 'b':1', 'c':2 ...}\n",
    "num_dic = {n: i for i, n in enumerate(char_arr)}\n",
    "dic_len = len(num_dic)"
   ]
  },
  {
   "cell_type": "markdown",
   "metadata": {},
   "source": [
    "---\n",
    "\n",
    "<br>\n",
    "\n",
    "## 학습할 단어들"
   ]
  },
  {
   "cell_type": "code",
   "execution_count": 2,
   "metadata": {},
   "outputs": [],
   "source": [
    "seq_data = ['word', 'wood', 'deep', 'dive', 'cold', 'cool', 'load',\n",
    "           'love', 'kiss', 'kind']"
   ]
  },
  {
   "cell_type": "markdown",
   "metadata": {},
   "source": [
    "---\n",
    "\n",
    "<br>\n",
    "\n",
    "## 단어들을 학습 가능한 형식으로 변환하는 함수 작성\n",
    "1. 입력값용으로, 단어의 처음 세 글자의 알파벳 인덱스를 구한 배열을 만든다.\n",
    "2. 출력값(예측값)용으로, 마지막 글자의 알파벳 인덱스를 구한다.\n",
    "3. 입력값을 원-핫 인코딩으로 변환한다."
   ]
  },
  {
   "cell_type": "code",
   "execution_count": 3,
   "metadata": {},
   "outputs": [
    {
     "name": "stdout",
     "output_type": "stream",
     "text": [
      "d, e, e :  [3, 4, 4]\n",
      "p :  15\n",
      "\n",
      "one-hot encoding of d, e, e : \n",
      " [array([[0., 0., 0., 1., 0., 0., 0., 0., 0., 0., 0., 0., 0., 0., 0., 0.,\n",
      "        0., 0., 0., 0., 0., 0., 0., 0., 0., 0.],\n",
      "       [0., 0., 0., 0., 1., 0., 0., 0., 0., 0., 0., 0., 0., 0., 0., 0.,\n",
      "        0., 0., 0., 0., 0., 0., 0., 0., 0., 0.],\n",
      "       [0., 0., 0., 0., 1., 0., 0., 0., 0., 0., 0., 0., 0., 0., 0., 0.,\n",
      "        0., 0., 0., 0., 0., 0., 0., 0., 0., 0.]])]\n"
     ]
    }
   ],
   "source": [
    "# 예시 (알파벳 인덱스 값을 리스트에 저장)\n",
    "input = [num_dic[n] for n in 'deep'[:-1]]\n",
    "print('d, e, e : ', input)\n",
    "\n",
    "target = num_dic['deep'[-1]]\n",
    "print('p : ', target)\n",
    "\n",
    "input_example = []\n",
    "input_example.append(np.eye(dic_len)[input])\n",
    "print('\\none-hot encoding of d, e, e : \\n', input_example)"
   ]
  },
  {
   "cell_type": "markdown",
   "metadata": {},
   "source": [
    "> 이처럼 'd, e, e'는 입력값이 되고, 'p'는 실측값(결과값)이 된다. **하지만 'p'는 원-핫 인코딩을 하지 않고 값을 그대로 사용할 것이다.** 왜냐하면 뒤쪽에서 쓰일 손실 함수가 실측값을 원-핫 인코딩한 형태로 자동 변환하여 계산해주기 때문이다.\n",
    "\n",
    "---\n",
    "\n",
    "<br>\n",
    "\n",
    "### 변환 함수"
   ]
  },
  {
   "cell_type": "code",
   "execution_count": 4,
   "metadata": {},
   "outputs": [],
   "source": [
    "def make_batch(seq_data):\n",
    "    input_batch = []\n",
    "    target_batch = []\n",
    "    \n",
    "    for seq in seq_data:\n",
    "        input = [num_dic[n] for n in seq[:-1]]\n",
    "        target = num_dic[seq[-1]]\n",
    "        input_batch.append(np.eye(dic_len)[input])\n",
    "        target_batch.append(target)\n",
    "    \n",
    "    return input_batch, target_batch"
   ]
  },
  {
   "cell_type": "markdown",
   "metadata": {},
   "source": [
    "---\n",
    "\n",
    "<br>\n",
    "\n",
    "## 신경망 모델 구성\n",
    "1. 변수 선언\n",
    "    * **n_step** : 처음 3 글자를 단계적으로 학습함을 뜻함\n",
    "    * **n_input(입력값), n_class(출력값)** : 입력과 출력 값은 알파벳의 원-핫 인코딩을 사용하므로 알파벳 글자들의 배열 크기이다. \n",
    "    \n",
    "<br>\n",
    "    \n",
    "2. 신경망 모델 구성\n",
    "    * 입력은 인덱스 숫자를 그대로 사용하기 때문에 1차원 배열이다.(ex. 3, 4, 4, 15)\n",
    "    * 출력은 위쪽에서 했듯이 마지막 알파벳의 인덱스 값이 나온다. (ex. 15)"
   ]
  },
  {
   "cell_type": "code",
   "execution_count": 5,
   "metadata": {},
   "outputs": [],
   "source": [
    "learning_rate = 0.01\n",
    "n_hidden = 128\n",
    "total_epoch = 30\n",
    "\n",
    "n_step = 3\n",
    "n_input = n_class = dic_len"
   ]
  },
  {
   "cell_type": "code",
   "execution_count": 6,
   "metadata": {},
   "outputs": [],
   "source": [
    "X = tf.placeholder(tf.float32, [None, n_step, n_input])\n",
    "Y = tf.placeholder(tf.int32, [None])\n",
    "\n",
    "W = tf.Variable(tf.random_normal([n_hidden, n_class]))\n",
    "b = tf.Variable(tf.random_normal([n_class]))"
   ]
  },
  {
   "cell_type": "markdown",
   "metadata": {},
   "source": [
    "---\n",
    "\n",
    "<br>\n",
    "\n",
    "## RNN 셀 생성\n",
    "* **DropoutWrapper** : RNN에도 과적합 방지를 위한 드롭아웃 기법을 쉽게 적용하는 함수\n",
    "* 두 개의 RNN 셀을 이용하는 이유는 여러 셀을 조합해 **심층 신경망을 만들기 위해서이다.**"
   ]
  },
  {
   "cell_type": "code",
   "execution_count": 7,
   "metadata": {},
   "outputs": [
    {
     "name": "stderr",
     "output_type": "stream",
     "text": [
      "WARNING: Logging before flag parsing goes to stderr.\n",
      "W0801 11:32:16.216418 4606911936 deprecation.py:323] From <ipython-input-7-c6b59c0bdf95>:1: BasicLSTMCell.__init__ (from tensorflow.python.ops.rnn_cell_impl) is deprecated and will be removed in a future version.\n",
      "Instructions for updating:\n",
      "This class is equivalent as tf.keras.layers.LSTMCell, and will be replaced by that in Tensorflow 2.0.\n"
     ]
    }
   ],
   "source": [
    "cell1 = tf.nn.rnn_cell.BasicLSTMCell(n_hidden)\n",
    "cell1 = tf.nn.rnn_cell.DropoutWrapper(cell1, output_keep_prob=0.5)\n",
    "cell2 = tf.nn.rnn_cell.BasicLSTMCell(n_hidden)"
   ]
  },
  {
   "cell_type": "markdown",
   "metadata": {},
   "source": [
    "---\n",
    "\n",
    "<br>\n",
    "\n",
    "## 셀 조합과 심층 순환 신경망 생성\n",
    "* 셀들을 MultiRNNCell 함수를 사용하여 조합하고 dynamic_rnn 함수를 사용하여 심층 순환 신경망, 즉 Deep RNN을 만든다."
   ]
  },
  {
   "cell_type": "code",
   "execution_count": 8,
   "metadata": {},
   "outputs": [
    {
     "name": "stderr",
     "output_type": "stream",
     "text": [
      "W0801 11:32:16.227109 4606911936 deprecation.py:323] From <ipython-input-8-5ea6d08ec7fd>:1: MultiRNNCell.__init__ (from tensorflow.python.ops.rnn_cell_impl) is deprecated and will be removed in a future version.\n",
      "Instructions for updating:\n",
      "This class is equivalent as tf.keras.layers.StackedRNNCells, and will be replaced by that in Tensorflow 2.0.\n",
      "W0801 11:32:16.228549 4606911936 deprecation.py:323] From <ipython-input-8-5ea6d08ec7fd>:2: dynamic_rnn (from tensorflow.python.ops.rnn) is deprecated and will be removed in a future version.\n",
      "Instructions for updating:\n",
      "Please use `keras.layers.RNN(cell)`, which is equivalent to this API\n",
      "W0801 11:32:16.482079 4606911936 deprecation.py:506] From /usr/local/lib/python3.7/site-packages/tensorflow/python/ops/init_ops.py:1251: calling VarianceScaling.__init__ (from tensorflow.python.ops.init_ops) with dtype is deprecated and will be removed in a future version.\n",
      "Instructions for updating:\n",
      "Call initializer instance with the dtype argument instead of passing it to the constructor\n",
      "W0801 11:32:16.488752 4606911936 deprecation.py:506] From /usr/local/lib/python3.7/site-packages/tensorflow/python/ops/rnn_cell_impl.py:738: calling Zeros.__init__ (from tensorflow.python.ops.init_ops) with dtype is deprecated and will be removed in a future version.\n",
      "Instructions for updating:\n",
      "Call initializer instance with the dtype argument instead of passing it to the constructor\n"
     ]
    }
   ],
   "source": [
    "multi_cell = tf.nn.rnn_cell.MultiRNNCell([cell1, cell2])\n",
    "outputs, states = tf.nn.dynamic_rnn(multi_cell, X, dtype=tf.float32)"
   ]
  },
  {
   "cell_type": "markdown",
   "metadata": {},
   "source": [
    "---\n",
    "\n",
    "<br>\n",
    "\n",
    "## 최종 출력층 생성\n",
    "* RNN의 첫 예제인 MNIST 예측 모델과 같은 방식으로 최종 출력층을 만든다.\n",
    "* **outputs = [batch_size, n_hidden]**"
   ]
  },
  {
   "cell_type": "code",
   "execution_count": 9,
   "metadata": {},
   "outputs": [],
   "source": [
    "outputs = tf.transpose(outputs, [1, 0, 2])\n",
    "outputs = outputs[-1]\n",
    "model = tf.matmul(outputs, W) + b"
   ]
  },
  {
   "cell_type": "markdown",
   "metadata": {},
   "source": [
    "---\n",
    "\n",
    "<br>\n",
    "\n",
    "## 신경망 모델 구성\n",
    "* 손실 함수와 최적화 함수를 이용하여 신경망 모델을 구성"
   ]
  },
  {
   "cell_type": "code",
   "execution_count": 10,
   "metadata": {},
   "outputs": [],
   "source": [
    "cost = tf.reduce_mean(\n",
    "        tf.nn.sparse_softmax_cross_entropy_with_logits(\n",
    "            logits=model, labels=Y))\n",
    "\n",
    "optimizer = tf.train.AdamOptimizer(learning_rate).minimize(cost)"
   ]
  },
  {
   "cell_type": "markdown",
   "metadata": {},
   "source": [
    "---\n",
    "\n",
    "<br>\n",
    "\n",
    "## 신경망 학습\n",
    "* make_batch 함수를 이용하여 seq_data 에 저장한 단어들을 **input_batch(입력값, 앞 세글자) 와 target_batch(실측값, 마지막 한 글자)로** 분리한다.\n",
    "* 최적화 함수를 실행하여 신경망을 학습한다."
   ]
  },
  {
   "cell_type": "code",
   "execution_count": 11,
   "metadata": {},
   "outputs": [
    {
     "name": "stdout",
     "output_type": "stream",
     "text": [
      "Epoch :  0001 cost =  4.765513\n",
      "Epoch :  0002 cost =  3.724801\n",
      "Epoch :  0003 cost =  2.175647\n",
      "Epoch :  0004 cost =  2.176336\n",
      "Epoch :  0005 cost =  1.032704\n",
      "Epoch :  0006 cost =  1.656234\n",
      "Epoch :  0007 cost =  1.263962\n",
      "Epoch :  0008 cost =  0.806303\n",
      "Epoch :  0009 cost =  0.510576\n",
      "Epoch :  0010 cost =  0.423324\n",
      "Epoch :  0011 cost =  0.534406\n",
      "Epoch :  0012 cost =  0.294946\n",
      "Epoch :  0013 cost =  0.165232\n",
      "Epoch :  0014 cost =  0.224700\n",
      "Epoch :  0015 cost =  0.500914\n",
      "Epoch :  0016 cost =  0.325886\n",
      "Epoch :  0017 cost =  0.249866\n",
      "Epoch :  0018 cost =  0.137024\n",
      "Epoch :  0019 cost =  0.097303\n",
      "Epoch :  0020 cost =  0.221349\n",
      "Epoch :  0021 cost =  0.119333\n",
      "Epoch :  0022 cost =  0.186925\n",
      "Epoch :  0023 cost =  0.042515\n",
      "Epoch :  0024 cost =  0.055527\n",
      "Epoch :  0025 cost =  0.033239\n",
      "Epoch :  0026 cost =  0.046750\n",
      "Epoch :  0027 cost =  0.018619\n",
      "Epoch :  0028 cost =  0.044791\n",
      "Epoch :  0029 cost =  0.063018\n",
      "Epoch :  0030 cost =  0.020829\n",
      "최적화 완료!\n"
     ]
    }
   ],
   "source": [
    "sess = tf.Session()\n",
    "sess.run(tf.global_variables_initializer())\n",
    "\n",
    "input_batch, target_batch = make_batch(seq_data)\n",
    "\n",
    "for epoch in range(total_epoch):\n",
    "    _, loss = sess.run([optimizer, cost],\n",
    "                      feed_dict={X: input_batch, Y: target_batch})\n",
    "    \n",
    "    print('Epoch : ', '%04d' %(epoch + 1),\n",
    "          'cost = ', '{:.6f}'.format(loss))\n",
    "    \n",
    "print('최적화 완료!')"
   ]
  },
  {
   "cell_type": "markdown",
   "metadata": {},
   "source": [
    "---\n",
    "\n",
    "<br>\n",
    "\n",
    "## 예측 결과 출력\n",
    "* 결괏값으로 예측한 단어를 정확도와 함께 출력\n",
    "* **Y** : 실측값을 알파벳 위치의 인덱스를 사용하므로 정수가 나온다.\n",
    "* **argmax** : 변환한 예측값을 정수로 변환해준다.\n",
    "* 정확도를 구할 때 입력값을 그대로 비교"
   ]
  },
  {
   "cell_type": "code",
   "execution_count": 12,
   "metadata": {},
   "outputs": [],
   "source": [
    "prediction = tf.cast(tf.argmax(model, 1), tf.int32)\n",
    "prediction_check = tf.equal(prediction, Y)\n",
    "accuracy = tf.reduce_mean(tf.cast(prediction_check, tf.float32))"
   ]
  },
  {
   "cell_type": "markdown",
   "metadata": {},
   "source": [
    "---\n",
    "\n",
    "<br>\n",
    "\n",
    "### 학습 단어 저장 및 예측 모델 실행"
   ]
  },
  {
   "cell_type": "code",
   "execution_count": 13,
   "metadata": {},
   "outputs": [],
   "source": [
    "input_batch, target_batch = make_batch(seq_data)\n",
    "\n",
    "predict, accuracy_val = sess.run([prediction, accuracy],\n",
    "                                feed_dict={X: input_batch,\n",
    "                                          Y: target_batch})"
   ]
  },
  {
   "cell_type": "markdown",
   "metadata": {},
   "source": [
    "---\n",
    "\n",
    "<br>\n",
    "\n",
    "### 모델의 예측값 출력"
   ]
  },
  {
   "cell_type": "code",
   "execution_count": 27,
   "metadata": {},
   "outputs": [
    {
     "name": "stdout",
     "output_type": "stream",
     "text": [
      "\n",
      "=== 예측 결과 ===\n",
      "입력값:  ['wor ', 'woo ', 'dee ', 'div ', 'col ', 'coo ', 'loa ', 'lov ', 'kis ', 'kin ']\n",
      "예측값:  ['word', 'wood', 'deep', 'dive', 'cold', 'cool', 'load', 'love', 'kiss', 'kind']\n",
      "정확도:  1.0\n"
     ]
    }
   ],
   "source": [
    "predict_words = []\n",
    "for idx, val in enumerate(seq_data):\n",
    "    last_char = char_arr[predict[idx]]\n",
    "    predict_words.append(val[:3] + last_char)\n",
    "    \n",
    "print('\\n=== 예측 결과 ===')\n",
    "print('입력값: ', [w[:3] + ' ' for w in seq_data])\n",
    "print('예측값: ', predict_words)\n",
    "print('정확도: ', accuracy_val)"
   ]
  },
  {
   "cell_type": "code",
   "execution_count": null,
   "metadata": {},
   "outputs": [],
   "source": []
  }
 ],
 "metadata": {
  "kernelspec": {
   "display_name": "Python 3",
   "language": "python",
   "name": "python3"
  },
  "language_info": {
   "codemirror_mode": {
    "name": "ipython",
    "version": 3
   },
   "file_extension": ".py",
   "mimetype": "text/x-python",
   "name": "python",
   "nbconvert_exporter": "python",
   "pygments_lexer": "ipython3",
   "version": "3.7.2"
  }
 },
 "nbformat": 4,
 "nbformat_minor": 2
}
