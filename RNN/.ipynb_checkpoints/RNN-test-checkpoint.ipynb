{
 "cells": [
  {
   "cell_type": "markdown",
   "metadata": {},
   "source": [
    "# MNIST 데이터를 이용한 RNN 구현\n",
    "1. MNIST 데이터셋을 가져온다.\n",
    "2. 하이퍼파라미터들 설정\n",
    "3. 변수들 설정\n",
    "4. 입력과 출력 플레이스홀더 설정\n",
    "  * 기존 입력층 구성과 다르게 한 번에 입력 받을 개수와 총 몇 단계로 이뤄진 데이터를 받을지 설정 필요.\n",
    "  * **n_input** : 가로 픽셀 수\n",
    "  * **n_step** : 세로 픽셀 수\n",
    "5. 츨력층을 위한 가중치와 편향 설정\n",
    "  * **n_hidden** : 은닉층 개수\n",
    "  * **n_class** : 출력 값 범위 (0 ~ 9 까지 이므로 10개)"
   ]
  },
  {
   "cell_type": "code",
   "execution_count": 1,
   "metadata": {},
   "outputs": [
    {
     "name": "stderr",
     "output_type": "stream",
     "text": [
      "WARNING: Logging before flag parsing goes to stderr.\n",
      "W0801 16:18:34.182139 4488050112 deprecation.py:323] From <ipython-input-1-d8dc18bf2ffc>:4: read_data_sets (from tensorflow.contrib.learn.python.learn.datasets.mnist) is deprecated and will be removed in a future version.\n",
      "Instructions for updating:\n",
      "Please use alternatives such as official/mnist/dataset.py from tensorflow/models.\n",
      "W0801 16:18:34.182857 4488050112 deprecation.py:323] From /usr/local/lib/python3.7/site-packages/tensorflow/contrib/learn/python/learn/datasets/mnist.py:260: maybe_download (from tensorflow.contrib.learn.python.learn.datasets.base) is deprecated and will be removed in a future version.\n",
      "Instructions for updating:\n",
      "Please write your own downloading logic.\n",
      "W0801 16:18:34.183625 4488050112 deprecation.py:323] From /usr/local/lib/python3.7/site-packages/tensorflow/contrib/learn/python/learn/datasets/mnist.py:262: extract_images (from tensorflow.contrib.learn.python.learn.datasets.mnist) is deprecated and will be removed in a future version.\n",
      "Instructions for updating:\n",
      "Please use tf.data to implement this functionality.\n",
      "W0801 16:18:34.356111 4488050112 deprecation.py:323] From /usr/local/lib/python3.7/site-packages/tensorflow/contrib/learn/python/learn/datasets/mnist.py:267: extract_labels (from tensorflow.contrib.learn.python.learn.datasets.mnist) is deprecated and will be removed in a future version.\n",
      "Instructions for updating:\n",
      "Please use tf.data to implement this functionality.\n",
      "W0801 16:18:34.357659 4488050112 deprecation.py:323] From /usr/local/lib/python3.7/site-packages/tensorflow/contrib/learn/python/learn/datasets/mnist.py:110: dense_to_one_hot (from tensorflow.contrib.learn.python.learn.datasets.mnist) is deprecated and will be removed in a future version.\n",
      "Instructions for updating:\n",
      "Please use tf.one_hot on tensors.\n"
     ]
    },
    {
     "name": "stdout",
     "output_type": "stream",
     "text": [
      "Extracting ./mnist/data/train-images-idx3-ubyte.gz\n",
      "Extracting ./mnist/data/train-labels-idx1-ubyte.gz\n",
      "Extracting ./mnist/data/t10k-images-idx3-ubyte.gz\n"
     ]
    },
    {
     "name": "stderr",
     "output_type": "stream",
     "text": [
      "W0801 16:18:34.393824 4488050112 deprecation.py:323] From /usr/local/lib/python3.7/site-packages/tensorflow/contrib/learn/python/learn/datasets/mnist.py:290: DataSet.__init__ (from tensorflow.contrib.learn.python.learn.datasets.mnist) is deprecated and will be removed in a future version.\n",
      "Instructions for updating:\n",
      "Please use alternatives such as official/mnist/dataset.py from tensorflow/models.\n"
     ]
    },
    {
     "name": "stdout",
     "output_type": "stream",
     "text": [
      "Extracting ./mnist/data/t10k-labels-idx1-ubyte.gz\n"
     ]
    }
   ],
   "source": [
    "import tensorflow as tf\n",
    "\n",
    "from tensorflow.examples.tutorials.mnist import input_data\n",
    "mnist = input_data.read_data_sets('./mnist/data/', one_hot=True)\n",
    "\n",
    "learning_rate = 0.001\n",
    "total_epoch = 30\n",
    "batch_size = 128\n",
    "\n",
    "n_input = 28    \n",
    "n_step = 28\n",
    "n_hidden = 128\n",
    "n_class = 10\n",
    "\n",
    "X = tf.placeholder(tf.float32, [None, n_step, n_input], name='X_input')\n",
    "Y = tf.placeholder(tf.float32, [None, n_class], name='Y_input')\n",
    "\n",
    "W = tf.Variable(tf.random_normal([n_hidden, n_class]))\n",
    "b = tf.Variable(tf.random_normal([n_class]))"
   ]
  },
  {
   "cell_type": "markdown",
   "metadata": {},
   "source": [
    "---\n",
    "\n",
    "<br>\n",
    "\n",
    "## RNN 셀(Cell) 생성\n",
    "n_hidden 개의 출력값을 갖는 RNN 셀을 생성한다.\n",
    "* **셀 생성 함수들**\n",
    "  * BasicRNNCell\n",
    "  * BasicLSTMCell : 데이터가 많으면 맨 처음 학습한 데이터를 잘 기억하지 못 하기 때문에 긴 단계의 데이터를 학습할 때 사용.\n",
    "  * GPUCell : LSTM과 비슷하지만 구조가 조금 더 간단한 신경망 시스템 구조"
   ]
  },
  {
   "cell_type": "code",
   "execution_count": 2,
   "metadata": {},
   "outputs": [
    {
     "name": "stderr",
     "output_type": "stream",
     "text": [
      "W0801 16:18:34.627355 4488050112 deprecation.py:323] From <ipython-input-2-e006f918b220>:1: BasicRNNCell.__init__ (from tensorflow.python.ops.rnn_cell_impl) is deprecated and will be removed in a future version.\n",
      "Instructions for updating:\n",
      "This class is equivalent as tf.keras.layers.SimpleRNNCell, and will be replaced by that in Tensorflow 2.0.\n"
     ]
    }
   ],
   "source": [
    "cell = tf.nn.rnn_cell.BasicRNNCell(n_hidden)"
   ]
  },
  {
   "cell_type": "markdown",
   "metadata": {},
   "source": [
    "---\n",
    "\n",
    "<br>\n",
    "\n",
    "## RNN 신경망 완성\n",
    "dynammic_rnn 함수를 이용해 RNN 신경망 완성\n",
    "* RNN 셀과 입력값, 그리고 입력값의 자료형을 넣어주면 간단하게 신경망을 생성할 수 있다.\n",
    "> 원래는 Cell을 한 단계 학습한 뒤 상태를 저장하고, 그 저장된 상태를 다음 단계의 입력상태로 하고 다시 학습해야 하지만, dynamic_rnn 함수를 통해 간단하게 구현할 수 있다."
   ]
  },
  {
   "cell_type": "code",
   "execution_count": 3,
   "metadata": {},
   "outputs": [
    {
     "name": "stderr",
     "output_type": "stream",
     "text": [
      "W0801 16:18:34.633804 4488050112 deprecation.py:323] From <ipython-input-3-f7b88a02a855>:1: dynamic_rnn (from tensorflow.python.ops.rnn) is deprecated and will be removed in a future version.\n",
      "Instructions for updating:\n",
      "Please use `keras.layers.RNN(cell)`, which is equivalent to this API\n",
      "W0801 16:18:34.682681 4488050112 deprecation.py:506] From /usr/local/lib/python3.7/site-packages/tensorflow/python/ops/init_ops.py:1251: calling VarianceScaling.__init__ (from tensorflow.python.ops.init_ops) with dtype is deprecated and will be removed in a future version.\n",
      "Instructions for updating:\n",
      "Call initializer instance with the dtype argument instead of passing it to the constructor\n",
      "W0801 16:18:34.689930 4488050112 deprecation.py:506] From /usr/local/lib/python3.7/site-packages/tensorflow/python/ops/rnn_cell_impl.py:459: calling Zeros.__init__ (from tensorflow.python.ops.init_ops) with dtype is deprecated and will be removed in a future version.\n",
      "Instructions for updating:\n",
      "Call initializer instance with the dtype argument instead of passing it to the constructor\n"
     ]
    }
   ],
   "source": [
    "outputs, states = tf.nn.dynamic_rnn(cell, X, dtype=tf.float32)"
   ]
  },
  {
   "cell_type": "markdown",
   "metadata": {},
   "source": [
    "---\n",
    "\n",
    "<br>\n",
    "\n",
    "\n",
    "## RNN에서 나온 출력값을 통해 최종 출력값 만들기\n",
    "* 손실 함수로 tf.nn.softmax_cross_entropy_with_logits 를 사용해야 한다.\n",
    "* 하지만, 이 함수를 사용하려면 **최종 결과값이 실측값 Y와 동일한 형태인 \\[batch_size, n_class\\] 를 사용해야한다.**\n",
    "  * batch_size : 이미지 크기\n",
    "  * n_class : 0~9 까지의 결과 크기\n",
    "* 그래서 은닉층의 출력값을 가중치 W와 같은 형태로 만들어줘야 행렬곱을 수행해야 원하는 출력값을 얻을 수 있다. <br>\n",
    "\n",
    "결국 원하는 연산 과정은 **Y = 은닉층 출력값 X 가중치 + 편향 이고,** <br>\n",
    "**Y = ( \\[batch_size, n_hidden\\] X \\[n_hidden, n_class\\] ) + b** 이다. <br>\n",
    "**Y = \\[batch_size, n_class\\] + b**"
   ]
  },
  {
   "cell_type": "code",
   "execution_count": 4,
   "metadata": {},
   "outputs": [
    {
     "name": "stdout",
     "output_type": "stream",
     "text": [
      "Tensor(\"rnn/transpose_1:0\", shape=(?, 28, 128), dtype=float32)\n"
     ]
    }
   ],
   "source": [
    "# 기존 은닉층 출력\n",
    "print(outputs)                   # [batch_size, n_step, n_hidden]"
   ]
  },
  {
   "cell_type": "code",
   "execution_count": 5,
   "metadata": {},
   "outputs": [
    {
     "name": "stdout",
     "output_type": "stream",
     "text": [
      "Tensor(\"transpose:0\", shape=(28, ?, 128), dtype=float32)\n"
     ]
    }
   ],
   "source": [
    "outputs = tf.transpose(outputs, [1, 0, 2])\n",
    "print(outputs)                   # [n_step, batch_size, n_hidden]"
   ]
  },
  {
   "cell_type": "code",
   "execution_count": 6,
   "metadata": {},
   "outputs": [
    {
     "name": "stdout",
     "output_type": "stream",
     "text": [
      "Tensor(\"strided_slice:0\", shape=(?, 128), dtype=float32)\n"
     ]
    }
   ],
   "source": [
    "outputs = outputs[-1]\n",
    "print(outputs)                   # [batch_size, n_hidden]"
   ]
  },
  {
   "cell_type": "markdown",
   "metadata": {},
   "source": [
    "---\n",
    "\n",
    "<br>\n",
    "\n",
    "## y = X * W + b 를 이용하여 최종 결괏값 만들기"
   ]
  },
  {
   "cell_type": "code",
   "execution_count": 7,
   "metadata": {},
   "outputs": [],
   "source": [
    "model = tf.matmul(outputs, W) + b"
   ]
  },
  {
   "cell_type": "markdown",
   "metadata": {},
   "source": [
    "---\n",
    "\n",
    "<br>\n",
    "\n",
    "## 손실값을 구하고 신경망 구성\n",
    "* 지금까지 만든 모델과 실측값을 비교하여 손실값을 구하고, 신경망을 최적화하는 함수를 이용하여 신경망 구성"
   ]
  },
  {
   "cell_type": "code",
   "execution_count": 8,
   "metadata": {},
   "outputs": [
    {
     "name": "stderr",
     "output_type": "stream",
     "text": [
      "W0801 16:18:34.826077 4488050112 deprecation.py:323] From <ipython-input-8-146bfb56808d>:2: softmax_cross_entropy_with_logits (from tensorflow.python.ops.nn_ops) is deprecated and will be removed in a future version.\n",
      "Instructions for updating:\n",
      "\n",
      "Future major versions of TensorFlow will allow gradients to flow\n",
      "into the labels input on backprop by default.\n",
      "\n",
      "See `tf.nn.softmax_cross_entropy_with_logits_v2`.\n",
      "\n"
     ]
    }
   ],
   "source": [
    "cost = tf.reduce_mean(tf.nn.softmax_cross_entropy_with_logits(\n",
    "                        logits=model, labels=Y))\n",
    "optimizer = tf.train.AdamOptimizer(learning_rate).minimize(cost)"
   ]
  },
  {
   "cell_type": "markdown",
   "metadata": {},
   "source": [
    "---\n",
    "\n",
    "<br>\n",
    "\n",
    "## 신경망 학습과 결과 확인\n",
    "* **주의할 점** : 입력값인 X가 \\[batch_size, n_step, n_input\\] 형태이므로 reshape 함수를 이용해 이미지 데이터 형태를 똑같은 형태로 바꿔준다."
   ]
  },
  {
   "cell_type": "code",
   "execution_count": 9,
   "metadata": {},
   "outputs": [
    {
     "name": "stdout",
     "output_type": "stream",
     "text": [
      "Epoch:  0001 Avg. cost =  0.525\n",
      "Epoch:  0002 Avg. cost =  0.243\n",
      "Epoch:  0003 Avg. cost =  0.180\n",
      "Epoch:  0004 Avg. cost =  0.156\n",
      "Epoch:  0005 Avg. cost =  0.135\n",
      "Epoch:  0006 Avg. cost =  0.123\n",
      "Epoch:  0007 Avg. cost =  0.117\n",
      "Epoch:  0008 Avg. cost =  0.106\n",
      "Epoch:  0009 Avg. cost =  0.098\n",
      "Epoch:  0010 Avg. cost =  0.097\n",
      "Epoch:  0011 Avg. cost =  0.093\n",
      "Epoch:  0012 Avg. cost =  0.089\n",
      "Epoch:  0013 Avg. cost =  0.086\n",
      "Epoch:  0014 Avg. cost =  0.086\n",
      "Epoch:  0015 Avg. cost =  0.077\n",
      "Epoch:  0016 Avg. cost =  0.084\n",
      "Epoch:  0017 Avg. cost =  0.078\n",
      "Epoch:  0018 Avg. cost =  0.075\n",
      "Epoch:  0019 Avg. cost =  0.080\n",
      "Epoch:  0020 Avg. cost =  0.068\n",
      "Epoch:  0021 Avg. cost =  0.068\n",
      "Epoch:  0022 Avg. cost =  0.071\n",
      "Epoch:  0023 Avg. cost =  0.070\n",
      "Epoch:  0024 Avg. cost =  0.063\n",
      "Epoch:  0025 Avg. cost =  0.073\n",
      "Epoch:  0026 Avg. cost =  0.063\n",
      "Epoch:  0027 Avg. cost =  0.064\n",
      "Epoch:  0028 Avg. cost =  0.062\n",
      "Epoch:  0029 Avg. cost =  0.061\n",
      "Epoch:  0030 Avg. cost =  0.059\n",
      "최적화 완료!\n",
      "정확도:  0.9732\n"
     ]
    }
   ],
   "source": [
    "sess = tf.Session()\n",
    "sess.run(tf.global_variables_initializer())\n",
    "\n",
    "total_batch = int(mnist.train.num_examples / batch_size)\n",
    "\n",
    "for epoch in range(total_epoch):\n",
    "    total_cost = 0\n",
    "    \n",
    "    for i in range(total_batch):\n",
    "        batch_xs, batch_ys = mnist.train.next_batch(batch_size)\n",
    "        batch_xs = batch_xs.reshape((batch_size, n_step, n_input))\n",
    "        \n",
    "        _, cost_val = sess.run([optimizer, cost],\n",
    "                              feed_dict={X: batch_xs, Y: batch_ys})\n",
    "        \n",
    "        total_cost += cost_val\n",
    "        \n",
    "    print('Epoch: ', '%04d' %(epoch + 1),\n",
    "         'Avg. cost = ', '{:.3f}'.format(total_cost / total_batch))\n",
    "    \n",
    "print('최적화 완료!')\n",
    "\n",
    "is_correct = tf.equal(tf.argmax(model, 1), tf.argmax(Y, 1))\n",
    "accuracy = tf.reduce_mean(tf.cast(is_correct, tf.float32))\n",
    "\n",
    "test_batch_size = len(mnist.test.images)\n",
    "\n",
    "test_xs = mnist.test.images.reshape(test_batch_size, n_step, n_input)\n",
    "test_ys = mnist.test.labels\n",
    "\n",
    "print('정확도: ', sess.run(accuracy,\n",
    "                       feed_dict={X: test_xs, Y: test_ys}))"
   ]
  },
  {
   "cell_type": "markdown",
   "metadata": {},
   "source": [
    "<img src=\"https://image.slidesharecdn.com/class3-170731055010/95/rnn-mnist-image-20-638.jpg?cb=1501480262\">"
   ]
  }
 ],
 "metadata": {
  "kernelspec": {
   "display_name": "Python 3",
   "language": "python",
   "name": "python3"
  },
  "language_info": {
   "codemirror_mode": {
    "name": "ipython",
    "version": 3
   },
   "file_extension": ".py",
   "mimetype": "text/x-python",
   "name": "python",
   "nbconvert_exporter": "python",
   "pygments_lexer": "ipython3",
   "version": "3.7.2"
  }
 },
 "nbformat": 4,
 "nbformat_minor": 2
}
