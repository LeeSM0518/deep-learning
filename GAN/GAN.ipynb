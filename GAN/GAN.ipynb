{
 "cells": [
  {
   "cell_type": "code",
   "execution_count": 1,
   "metadata": {},
   "outputs": [
    {
     "name": "stderr",
     "output_type": "stream",
     "text": [
      "/usr/local/Cellar/python/3.7.2_2/Frameworks/Python.framework/Versions/3.7/lib/python3.7/importlib/_bootstrap.py:219: RuntimeWarning: numpy.ufunc size changed, may indicate binary incompatibility. Expected 216, got 192\n",
      "  return f(*args, **kwds)\n",
      "/usr/local/Cellar/python/3.7.2_2/Frameworks/Python.framework/Versions/3.7/lib/python3.7/importlib/_bootstrap.py:219: RuntimeWarning: numpy.ufunc size changed, may indicate binary incompatibility. Expected 192 from C header, got 216 from PyObject\n",
      "  return f(*args, **kwds)\n",
      "/usr/local/Cellar/python/3.7.2_2/Frameworks/Python.framework/Versions/3.7/lib/python3.7/importlib/_bootstrap.py:219: RuntimeWarning: numpy.ufunc size changed, may indicate binary incompatibility. Expected 192 from C header, got 216 from PyObject\n",
      "  return f(*args, **kwds)\n",
      "WARNING: Logging before flag parsing goes to stderr.\n",
      "W0731 19:07:28.495802 4529210816 deprecation.py:323] From <ipython-input-1-03052c1d1b02>:6: read_data_sets (from tensorflow.contrib.learn.python.learn.datasets.mnist) is deprecated and will be removed in a future version.\n",
      "Instructions for updating:\n",
      "Please use alternatives such as official/mnist/dataset.py from tensorflow/models.\n",
      "W0731 19:07:28.496515 4529210816 deprecation.py:323] From /usr/local/lib/python3.7/site-packages/tensorflow/contrib/learn/python/learn/datasets/mnist.py:260: maybe_download (from tensorflow.contrib.learn.python.learn.datasets.base) is deprecated and will be removed in a future version.\n",
      "Instructions for updating:\n",
      "Please write your own downloading logic.\n",
      "W0731 19:07:28.497520 4529210816 deprecation.py:323] From /usr/local/lib/python3.7/site-packages/tensorflow/contrib/learn/python/learn/datasets/base.py:252: _internal_retry.<locals>.wrap.<locals>.wrapped_fn (from tensorflow.contrib.learn.python.learn.datasets.base) is deprecated and will be removed in a future version.\n",
      "Instructions for updating:\n",
      "Please use urllib or similar directly.\n",
      "W0731 19:07:55.156112 4529210816 deprecation.py:323] From /usr/local/lib/python3.7/site-packages/tensorflow/contrib/learn/python/learn/datasets/mnist.py:262: extract_images (from tensorflow.contrib.learn.python.learn.datasets.mnist) is deprecated and will be removed in a future version.\n",
      "Instructions for updating:\n",
      "Please use tf.data to implement this functionality.\n"
     ]
    },
    {
     "name": "stdout",
     "output_type": "stream",
     "text": [
      "Successfully downloaded train-images-idx3-ubyte.gz 9912422 bytes.\n",
      "Extracting ./mnist/data/train-images-idx3-ubyte.gz\n"
     ]
    },
    {
     "name": "stderr",
     "output_type": "stream",
     "text": [
      "W0731 19:07:55.993831 4529210816 deprecation.py:323] From /usr/local/lib/python3.7/site-packages/tensorflow/contrib/learn/python/learn/datasets/mnist.py:267: extract_labels (from tensorflow.contrib.learn.python.learn.datasets.mnist) is deprecated and will be removed in a future version.\n",
      "Instructions for updating:\n",
      "Please use tf.data to implement this functionality.\n",
      "W0731 19:07:55.996186 4529210816 deprecation.py:323] From /usr/local/lib/python3.7/site-packages/tensorflow/contrib/learn/python/learn/datasets/mnist.py:110: dense_to_one_hot (from tensorflow.contrib.learn.python.learn.datasets.mnist) is deprecated and will be removed in a future version.\n",
      "Instructions for updating:\n",
      "Please use tf.one_hot on tensors.\n"
     ]
    },
    {
     "name": "stdout",
     "output_type": "stream",
     "text": [
      "Successfully downloaded train-labels-idx1-ubyte.gz 28881 bytes.\n",
      "Extracting ./mnist/data/train-labels-idx1-ubyte.gz\n",
      "Successfully downloaded t10k-images-idx3-ubyte.gz 1648877 bytes.\n",
      "Extracting ./mnist/data/t10k-images-idx3-ubyte.gz\n"
     ]
    },
    {
     "name": "stderr",
     "output_type": "stream",
     "text": [
      "W0731 19:07:58.884862 4529210816 deprecation.py:323] From /usr/local/lib/python3.7/site-packages/tensorflow/contrib/learn/python/learn/datasets/mnist.py:290: DataSet.__init__ (from tensorflow.contrib.learn.python.learn.datasets.mnist) is deprecated and will be removed in a future version.\n",
      "Instructions for updating:\n",
      "Please use alternatives such as official/mnist/dataset.py from tensorflow/models.\n"
     ]
    },
    {
     "name": "stdout",
     "output_type": "stream",
     "text": [
      "Successfully downloaded t10k-labels-idx1-ubyte.gz 4542 bytes.\n",
      "Extracting ./mnist/data/t10k-labels-idx1-ubyte.gz\n"
     ]
    }
   ],
   "source": [
    "import tensorflow as tf\n",
    "import matplotlib.pyplot as plt\n",
    "import numpy as np\n",
    "\n",
    "from tensorflow.examples.tutorials.mnist import input_data\n",
    "mnist = input_data.read_data_sets(\"./mnist/data/\", one_hot=True)"
   ]
  },
  {
   "cell_type": "code",
   "execution_count": 2,
   "metadata": {},
   "outputs": [],
   "source": [
    "# 하이퍼파라미터들 설정\n",
    "total_epoch = 100\n",
    "batch_size = 100\n",
    "learning_rate = 0.0002\n",
    "n_hidden = 256\n",
    "n_input = 28 * 28\n",
    "\n",
    "# 생성자의 입력값으로 사용할 노이즈의 크기이다.\n",
    "n_noise = 128"
   ]
  },
  {
   "cell_type": "code",
   "execution_count": 4,
   "metadata": {},
   "outputs": [],
   "source": [
    "# 플레이스홀더 설정\n",
    "\n",
    "# 실제 이미지를 넣을 플레이스홀더 \n",
    "X = tf.placeholder(tf.float32, [None, n_input])\n",
    "\n",
    "# 가짜 이미지를 생성할 플레이스홀더\n",
    "Z = tf.placeholder(tf.float32, [None, n_noise])\n",
    "\n",
    "# GAN도 비지도 학습이므로 오토인코더 처럼 Y를 사용하지 않는다."
   ]
  },
  {
   "cell_type": "code",
   "execution_count": 6,
   "metadata": {},
   "outputs": [],
   "source": [
    "# 생성자 신경망에 사용할 변수들 설정\n",
    "\n",
    "# 첫 번째 가중치와 편향은 은닉층으로 출력하기 위한 변수\n",
    "G_W1 = tf.Variable(tf.random_normal([n_noise, n_hidden], stddev=0.01))\n",
    "G_b1 = tf.Variable(tf.zeros([n_hidden]))\n",
    "\n",
    "# 두 번째 가중치와 편향은 출력층에 사용할 변수\n",
    "# n_input : 실제 이미지의 크기이므로 28 * 28\n",
    "G_W2 = tf.Variable(tf.random_normal([n_hidden, n_input], stddev=0.01))\n",
    "G_b2 = tf.Variable(tf.zeros([n_input]))"
   ]
  },
  {
   "cell_type": "code",
   "execution_count": 8,
   "metadata": {},
   "outputs": [],
   "source": [
    "# 구분자 신경망에 사용할 변수들을 설정\n",
    "\n",
    "# 은닉층은 생성자와 동일하게 구성\n",
    "D_W1 = tf.Variable(tf.random_normal([n_input, n_hidden], stddev=0.01))\n",
    "D_b1 = tf.Variable(tf.zeros([n_hidden]))\n",
    "\n",
    "# 구분자는 진짜와 얼마나 가까운지를 판단하는 값으로, 0~1 사이의 값 출력\n",
    "D_W2 = tf.Variable(tf.random_normal([n_hidden, 1], stddev=0.01))\n",
    "D_b2 = tf.Variable(tf.zeros([1]))"
   ]
  },
  {
   "cell_type": "code",
   "execution_count": 9,
   "metadata": {},
   "outputs": [],
   "source": [
    "# 생성자 신경망\n",
    "# 무작위로 생성한 노이즈를 받아 가중치와 편향을 반영하여 은닉층 생성\n",
    "# 은닉층에서 실제 이미지와 같은 크기의 결괏값을 출력한다.\n",
    "def generator(noise_z):\n",
    "    hidden = tf.nn.relu(tf.matmul(noise_z, G_W1) + G_b1)\n",
    "    output = tf.nn.sigmoid(tf.matmul(hidden, G_W2) + G_b2)\n",
    "    return output"
   ]
  },
  {
   "cell_type": "code",
   "execution_count": 11,
   "metadata": {},
   "outputs": [],
   "source": [
    "# 구분자 신경망\n",
    "# 0~1 사이의 스칼라값 하나를 출력하도록 하고,\n",
    "# 이를 위한 활성화 함수로 sigmoid 함수를 사용\n",
    "def discriminator(inputs):\n",
    "    hidden = tf.nn.relu(tf.matmul(inputs, D_W1) + D_b1)\n",
    "    output = tf.nn.sigmoid(tf.matmul(hidden, D_W2) + D_b2)\n",
    "    return output"
   ]
  },
  {
   "cell_type": "code",
   "execution_count": 12,
   "metadata": {},
   "outputs": [],
   "source": [
    "# 무작위한 노이즈를 만들어주는 함수\n",
    "def get_noise(batch_size, n_noise):\n",
    "    return np.random.normal(size=(batch_size, n_noise))"
   ]
  },
  {
   "cell_type": "code",
   "execution_count": 13,
   "metadata": {},
   "outputs": [],
   "source": [
    "# 노이즈 Z를 이용해 가짜 이미지를 만들 생성자 G를 만들고\n",
    "# 이 G가 만든 가짜 이미지와 진짜 이미지 X를 각각 구분자에 넣어 입력한 이미지가\n",
    "# 진짜인지를 판별\n",
    "G = generator(Z)\n",
    "D_gene = discriminator(G)\n",
    "D_real = discriminator(X)"
   ]
  },
  {
   "cell_type": "code",
   "execution_count": 15,
   "metadata": {},
   "outputs": [],
   "source": [
    "# 손실값 구하기\n",
    "\n",
    "# 1. 생성자가 만든 이미지를 구분자가 가짜라고 판단하도록 하는 손실값\n",
    "# 2. 진짜라고 판단하도록 하는 손실값\n",
    "# 진짜 이미지이면 D_real은 1에 가깝고, 가짜 이미지면 0에 가깝다.\n",
    "loss_D = tf.reduce_mean(tf.log(D_real) + tf.log(1 - D_gene))\n",
    "loss_G = tf.reduce_mean(tf.log(D_gene))"
   ]
  },
  {
   "cell_type": "code",
   "execution_count": 16,
   "metadata": {},
   "outputs": [],
   "source": [
    "# 학습 준비\n",
    "# loss_D를 구할 때는 구분자 신경망에 사용되는 변수들만 사용\n",
    "# loss_G를 구할 때는 생성자 신경망에 사용되는 변수들만 사용\n",
    "D_var_list = [D_W1, D_b1, D_W2, D_b2]\n",
    "G_var_list = [G_W1, G_b1, G_W2, G_b2]"
   ]
  },
  {
   "cell_type": "code",
   "execution_count": 23,
   "metadata": {},
   "outputs": [],
   "source": [
    "# loss를 최대화해야 하는데, 최적화에 쓸 수 있는 함수는 minimize뿐이므로 \n",
    "# 최적화하려는 loss_D와 loss_G에 음수 부호를 붙여준다.\n",
    "train_D = tf.train.AdamOptimizer(learning_rate).minimize(\n",
    "    -loss_D, var_list=D_var_list)\n",
    "\n",
    "train_G = tf.train.AdamOptimizer(learning_rate).minimize(\n",
    "    -loss_G, var_list=G_var_list)"
   ]
  },
  {
   "cell_type": "code",
   "execution_count": 25,
   "metadata": {},
   "outputs": [],
   "source": [
    "# 학습\n",
    "sess = tf.Session()\n",
    "sess.run(tf.global_variables_initializer())\n",
    "\n",
    "# 미니배치를 위함\n",
    "total_batch = int(mnist.train.num_examples / batch_size)\n",
    "# 결과값을 받을 변수\n",
    "loss_var_D, loss_val_G = 0, 0"
   ]
  },
  {
   "cell_type": "code",
   "execution_count": 31,
   "metadata": {},
   "outputs": [
    {
     "name": "stdout",
     "output_type": "stream",
     "text": [
      "Epoch:  0000 D loss: -0.1698 G loss: -2.933\n",
      "Epoch:  0001 D loss: -0.3859 G loss: -3.239\n",
      "Epoch:  0002 D loss: -0.1962 G loss: -2.992\n",
      "Epoch:  0003 D loss: -0.3327 G loss: -2.527\n",
      "Epoch:  0004 D loss: -0.156 G loss: -2.915\n",
      "Epoch:  0005 D loss: -0.3474 G loss: -2.411\n",
      "Epoch:  0006 D loss: -0.4196 G loss: -2.448\n",
      "Epoch:  0007 D loss: -0.4119 G loss: -2.452\n",
      "Epoch:  0008 D loss: -0.2719 G loss: -2.453\n",
      "Epoch:  0009 D loss: -0.4592 G loss: -2.326\n",
      "Epoch:  0010 D loss: -0.3755 G loss: -2.527\n",
      "Epoch:  0011 D loss: -0.4504 G loss: -2.365\n",
      "Epoch:  0012 D loss: -0.4698 G loss: -2.283\n",
      "Epoch:  0013 D loss: -0.3046 G loss: -2.452\n",
      "Epoch:  0014 D loss: -0.4217 G loss: -2.836\n",
      "Epoch:  0015 D loss: -0.4194 G loss: -2.692\n",
      "Epoch:  0016 D loss: -0.4752 G loss: -2.393\n",
      "Epoch:  0017 D loss: -0.368 G loss: -2.242\n",
      "Epoch:  0018 D loss: -0.2937 G loss: -2.754\n",
      "Epoch:  0019 D loss: -0.3189 G loss: -2.889\n",
      "Epoch:  0020 D loss: -0.3571 G loss: -3.113\n",
      "Epoch:  0021 D loss: -0.4143 G loss: -2.483\n",
      "Epoch:  0022 D loss: -0.6027 G loss: -2.646\n",
      "Epoch:  0023 D loss: -0.5704 G loss: -2.34\n",
      "Epoch:  0024 D loss: -0.2683 G loss: -2.618\n",
      "Epoch:  0025 D loss: -0.3016 G loss: -3.242\n",
      "Epoch:  0026 D loss: -0.3682 G loss: -3.029\n",
      "Epoch:  0027 D loss: -0.4712 G loss: -2.652\n",
      "Epoch:  0028 D loss: -0.3409 G loss: -2.419\n",
      "Epoch:  0029 D loss: -0.3865 G loss: -2.838\n",
      "Epoch:  0030 D loss: -0.429 G loss: -3.15\n",
      "Epoch:  0031 D loss: -0.4424 G loss: -2.846\n",
      "Epoch:  0032 D loss: -0.486 G loss: -2.83\n",
      "Epoch:  0033 D loss: -0.33 G loss: -2.934\n",
      "Epoch:  0034 D loss: -0.5457 G loss: -2.513\n",
      "Epoch:  0035 D loss: -0.6426 G loss: -2.379\n",
      "Epoch:  0036 D loss: -0.6026 G loss: -2.788\n",
      "Epoch:  0037 D loss: -0.4202 G loss: -2.536\n",
      "Epoch:  0038 D loss: -0.4843 G loss: -2.261\n",
      "Epoch:  0039 D loss: -0.5517 G loss: -2.355\n",
      "Epoch:  0040 D loss: -0.4401 G loss: -2.611\n",
      "Epoch:  0041 D loss: -0.5789 G loss: -2.569\n",
      "Epoch:  0042 D loss: -0.5218 G loss: -2.111\n",
      "Epoch:  0043 D loss: -0.6895 G loss: -2.45\n",
      "Epoch:  0044 D loss: -0.6766 G loss: -2.201\n",
      "Epoch:  0045 D loss: -0.6054 G loss: -2.629\n",
      "Epoch:  0046 D loss: -0.5948 G loss: -2.316\n",
      "Epoch:  0047 D loss: -0.61 G loss: -2.216\n",
      "Epoch:  0048 D loss: -0.553 G loss: -2.409\n",
      "Epoch:  0049 D loss: -0.7202 G loss: -2.372\n",
      "Epoch:  0050 D loss: -0.7086 G loss: -2.043\n",
      "Epoch:  0051 D loss: -0.8001 G loss: -2.125\n",
      "Epoch:  0052 D loss: -0.7038 G loss: -2.345\n",
      "Epoch:  0053 D loss: -0.6962 G loss: -2.446\n",
      "Epoch:  0054 D loss: -0.6993 G loss: -2.108\n",
      "Epoch:  0055 D loss: -0.5995 G loss: -2.18\n",
      "Epoch:  0056 D loss: -0.5725 G loss: -2.084\n",
      "Epoch:  0057 D loss: -0.7517 G loss: -2.035\n",
      "Epoch:  0058 D loss: -0.6244 G loss: -2.263\n",
      "Epoch:  0059 D loss: -0.6848 G loss: -1.918\n",
      "Epoch:  0060 D loss: -0.8262 G loss: -1.765\n",
      "Epoch:  0061 D loss: -0.6508 G loss: -2.139\n",
      "Epoch:  0062 D loss: -0.7566 G loss: -2.292\n",
      "Epoch:  0063 D loss: -0.6289 G loss: -2.108\n",
      "Epoch:  0064 D loss: -0.7938 G loss: -2.125\n",
      "Epoch:  0065 D loss: -0.6296 G loss: -1.863\n",
      "Epoch:  0066 D loss: -0.8787 G loss: -1.986\n",
      "Epoch:  0067 D loss: -0.6973 G loss: -2.003\n",
      "Epoch:  0068 D loss: -0.7261 G loss: -2.157\n",
      "Epoch:  0069 D loss: -0.7633 G loss: -2.034\n",
      "Epoch:  0070 D loss: -0.7249 G loss: -1.977\n",
      "Epoch:  0071 D loss: -0.6351 G loss: -1.923\n",
      "Epoch:  0072 D loss: -0.7704 G loss: -1.919\n",
      "Epoch:  0073 D loss: -0.8133 G loss: -1.879\n",
      "Epoch:  0074 D loss: -0.7203 G loss: -2.19\n",
      "Epoch:  0075 D loss: -0.8021 G loss: -1.989\n",
      "Epoch:  0076 D loss: -0.8302 G loss: -1.829\n",
      "Epoch:  0077 D loss: -0.6254 G loss: -2.069\n",
      "Epoch:  0078 D loss: -0.6859 G loss: -2.214\n",
      "Epoch:  0079 D loss: -0.5791 G loss: -2.121\n",
      "Epoch:  0080 D loss: -0.7852 G loss: -1.759\n",
      "Epoch:  0081 D loss: -0.6842 G loss: -2.083\n",
      "Epoch:  0082 D loss: -0.6612 G loss: -1.812\n",
      "Epoch:  0083 D loss: -0.7303 G loss: -2.004\n",
      "Epoch:  0084 D loss: -0.5756 G loss: -2.39\n",
      "Epoch:  0085 D loss: -0.7278 G loss: -1.909\n",
      "Epoch:  0086 D loss: -0.7092 G loss: -1.708\n",
      "Epoch:  0087 D loss: -0.5866 G loss: -1.976\n",
      "Epoch:  0088 D loss: -0.64 G loss: -2.272\n",
      "Epoch:  0089 D loss: -0.6427 G loss: -2.263\n",
      "Epoch:  0090 D loss: -0.6553 G loss: -1.917\n",
      "Epoch:  0091 D loss: -0.6262 G loss: -1.822\n",
      "Epoch:  0092 D loss: -0.6395 G loss: -2.125\n",
      "Epoch:  0093 D loss: -0.6138 G loss: -2.439\n",
      "Epoch:  0094 D loss: -0.6014 G loss: -2.046\n",
      "Epoch:  0095 D loss: -0.792 G loss: -2.026\n",
      "Epoch:  0096 D loss: -0.6673 G loss: -1.858\n",
      "Epoch:  0097 D loss: -0.5267 G loss: -2.483\n",
      "Epoch:  0098 D loss: -0.6995 G loss: -1.863\n",
      "Epoch:  0099 D loss: -0.5848 G loss: -2.377\n",
      "최적화 완료\n"
     ]
    }
   ],
   "source": [
    "for epoch in range(total_epoch):\n",
    "    for i in range(total_batch):\n",
    "        # 미니배치로 학습을 반복하도록 한다.\n",
    "        batch_xs, batch_ys = mnist.train.next_batch(batch_size)\n",
    "        noise = get_noise(batch_size, n_noise)\n",
    "        \n",
    "        # 구분자는 X 값을, 생성자는 노이즈인 Z 값을 받으므로 노이즈를 생성해주는\n",
    "        # get_noise 함수를 통해 배치 크기만큼 노이즈를 만들고 이를 입력해준다.\n",
    "        _, loss_val_D = sess.run([train_D, loss_D],\n",
    "                                feed_dict={X: batch_xs, Z: noise})\n",
    "        _, loss_val_G = sess.run([train_G, loss_G],\n",
    "                                feed_dict={Z: noise})\n",
    "        \n",
    "    print('Epoch: ', '%04d' %epoch,\n",
    "         'D loss: {:.4}'.format(loss_val_D),\n",
    "         'G loss: {:.4}'.format(loss_val_G))\n",
    "    \n",
    "    if epoch == 0 or (epoch + 1) % 10 == 0:\n",
    "        sample_size = 10\n",
    "        # 노이즈를 만들고, 이것을 생성자 G에 넣은 결괏값을 만든다.\n",
    "        noise = get_noise(sample_size, n_noise)\n",
    "        samples = sess.run(G, feed_dict={Z: noise})\n",
    "        \n",
    "        # 결괏값들을 28 * 28 크기의 가짜 이미지로 만들어 폴더에 저장\n",
    "        fig, ax = plt.subplots(1, sample_size, figsize=(sample_size, 1))\n",
    "        \n",
    "        for i in range(sample_size):\n",
    "            ax[i].set_axis_off()\n",
    "            ax[i].imshow(np.reshape(samples[i], (28, 28)))\n",
    "            \n",
    "        plt.savefig('./samples/{}.png'.format(str(epoch).zfill(3)),\n",
    "                   bbox_inches='tight')\n",
    "        plt.close(fig)\n",
    "\n",
    "print('최적화 완료')"
   ]
  }
 ],
 "metadata": {
  "kernelspec": {
   "display_name": "Python 3",
   "language": "python",
   "name": "python3"
  },
  "language_info": {
   "codemirror_mode": {
    "name": "ipython",
    "version": 3
   },
   "file_extension": ".py",
   "mimetype": "text/x-python",
   "name": "python",
   "nbconvert_exporter": "python",
   "pygments_lexer": "ipython3",
   "version": "3.7.2"
  }
 },
 "nbformat": 4,
 "nbformat_minor": 2
}
