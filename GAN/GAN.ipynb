{
 "cells": [
  {
   "cell_type": "code",
   "execution_count": 1,
   "metadata": {},
   "outputs": [
    {
     "name": "stderr",
     "output_type": "stream",
     "text": [
      "WARNING: Logging before flag parsing goes to stderr.\n",
      "W0801 15:27:08.145277 4530775488 deprecation.py:323] From <ipython-input-1-03052c1d1b02>:6: read_data_sets (from tensorflow.contrib.learn.python.learn.datasets.mnist) is deprecated and will be removed in a future version.\n",
      "Instructions for updating:\n",
      "Please use alternatives such as official/mnist/dataset.py from tensorflow/models.\n",
      "W0801 15:27:08.146117 4530775488 deprecation.py:323] From /usr/local/lib/python3.7/site-packages/tensorflow/contrib/learn/python/learn/datasets/mnist.py:260: maybe_download (from tensorflow.contrib.learn.python.learn.datasets.base) is deprecated and will be removed in a future version.\n",
      "Instructions for updating:\n",
      "Please write your own downloading logic.\n",
      "W0801 15:27:08.147045 4530775488 deprecation.py:323] From /usr/local/lib/python3.7/site-packages/tensorflow/contrib/learn/python/learn/datasets/mnist.py:262: extract_images (from tensorflow.contrib.learn.python.learn.datasets.mnist) is deprecated and will be removed in a future version.\n",
      "Instructions for updating:\n",
      "Please use tf.data to implement this functionality.\n",
      "W0801 15:27:08.316751 4530775488 deprecation.py:323] From /usr/local/lib/python3.7/site-packages/tensorflow/contrib/learn/python/learn/datasets/mnist.py:267: extract_labels (from tensorflow.contrib.learn.python.learn.datasets.mnist) is deprecated and will be removed in a future version.\n",
      "Instructions for updating:\n",
      "Please use tf.data to implement this functionality.\n",
      "W0801 15:27:08.318415 4530775488 deprecation.py:323] From /usr/local/lib/python3.7/site-packages/tensorflow/contrib/learn/python/learn/datasets/mnist.py:110: dense_to_one_hot (from tensorflow.contrib.learn.python.learn.datasets.mnist) is deprecated and will be removed in a future version.\n",
      "Instructions for updating:\n",
      "Please use tf.one_hot on tensors.\n"
     ]
    },
    {
     "name": "stdout",
     "output_type": "stream",
     "text": [
      "Extracting ./mnist/data/train-images-idx3-ubyte.gz\n",
      "Extracting ./mnist/data/train-labels-idx1-ubyte.gz\n",
      "Extracting ./mnist/data/t10k-images-idx3-ubyte.gz\n"
     ]
    },
    {
     "name": "stderr",
     "output_type": "stream",
     "text": [
      "W0801 15:27:08.357349 4530775488 deprecation.py:323] From /usr/local/lib/python3.7/site-packages/tensorflow/contrib/learn/python/learn/datasets/mnist.py:290: DataSet.__init__ (from tensorflow.contrib.learn.python.learn.datasets.mnist) is deprecated and will be removed in a future version.\n",
      "Instructions for updating:\n",
      "Please use alternatives such as official/mnist/dataset.py from tensorflow/models.\n"
     ]
    },
    {
     "name": "stdout",
     "output_type": "stream",
     "text": [
      "Extracting ./mnist/data/t10k-labels-idx1-ubyte.gz\n"
     ]
    }
   ],
   "source": [
    "import tensorflow as tf\n",
    "import matplotlib.pyplot as plt\n",
    "import numpy as np\n",
    "\n",
    "from tensorflow.examples.tutorials.mnist import input_data\n",
    "mnist = input_data.read_data_sets(\"./mnist/data/\", one_hot=True)"
   ]
  },
  {
   "cell_type": "code",
   "execution_count": 2,
   "metadata": {},
   "outputs": [],
   "source": [
    "# 하이퍼파라미터들 설정\n",
    "total_epoch = 100\n",
    "batch_size = 100\n",
    "learning_rate = 0.0002\n",
    "n_hidden = 256\n",
    "n_input = 28 * 28\n",
    "\n",
    "# 생성자의 입력값으로 사용할 노이즈의 크기이다.\n",
    "n_noise = 128"
   ]
  },
  {
   "cell_type": "code",
   "execution_count": 3,
   "metadata": {},
   "outputs": [],
   "source": [
    "# 플레이스홀더 설정\n",
    "\n",
    "# 실제 이미지를 넣을 플레이스홀더 \n",
    "X = tf.placeholder(tf.float32, [None, n_input])\n",
    "\n",
    "# 가짜 이미지를 생성할 플레이스홀더\n",
    "Z = tf.placeholder(tf.float32, [None, n_noise])\n",
    "\n",
    "# GAN도 비지도 학습이므로 오토인코더 처럼 Y를 사용하지 않는다."
   ]
  },
  {
   "cell_type": "code",
   "execution_count": 4,
   "metadata": {},
   "outputs": [
    {
     "name": "stdout",
     "output_type": "stream",
     "text": [
      "Tensor(\"Placeholder:0\", shape=(?, 784), dtype=float32)\n",
      "Tensor(\"Placeholder_1:0\", shape=(?, 128), dtype=float32)\n"
     ]
    }
   ],
   "source": [
    "print(X)\n",
    "print(Z)"
   ]
  },
  {
   "cell_type": "code",
   "execution_count": 5,
   "metadata": {},
   "outputs": [],
   "source": [
    "# 생성자 신경망에 사용할 변수들 설정\n",
    "\n",
    "# 첫 번째 가중치와 편향은 은닉층으로 출력하기 위한 변수\n",
    "G_W1 = tf.Variable(tf.random_normal([n_noise, n_hidden], stddev=0.01))\n",
    "G_b1 = tf.Variable(tf.zeros([n_hidden]))\n",
    "\n",
    "# 두 번째 가중치와 편향은 출력층에 사용할 변수\n",
    "# n_input : 실제 이미지의 크기이므로 28 * 28\n",
    "G_W2 = tf.Variable(tf.random_normal([n_hidden, n_input], stddev=0.01))\n",
    "G_b2 = tf.Variable(tf.zeros([n_input]))"
   ]
  },
  {
   "cell_type": "code",
   "execution_count": 6,
   "metadata": {},
   "outputs": [],
   "source": [
    "# 구분자 신경망에 사용할 변수들을 설정\n",
    "\n",
    "# 은닉층은 생성자와 동일하게 구성\n",
    "D_W1 = tf.Variable(tf.random_normal([n_input, n_hidden], stddev=0.01))\n",
    "D_b1 = tf.Variable(tf.zeros([n_hidden]))\n",
    "\n",
    "# 구분자는 진짜와 얼마나 가까운지를 판단하는 값으로, 0~1 사이의 값 출력\n",
    "D_W2 = tf.Variable(tf.random_normal([n_hidden, 1], stddev=0.01))\n",
    "D_b2 = tf.Variable(tf.zeros([1]))"
   ]
  },
  {
   "cell_type": "code",
   "execution_count": 7,
   "metadata": {},
   "outputs": [],
   "source": [
    "# 생성자 신경망\n",
    "# 무작위로 생성한 노이즈를 받아 가중치와 편향을 반영하여 은닉층 생성\n",
    "# 은닉층에서 실제 이미지와 같은 크기의 결괏값을 출력한다.\n",
    "def generator(noise_z):\n",
    "    hidden = tf.nn.relu(tf.matmul(noise_z, G_W1) + G_b1)\n",
    "    output = tf.nn.sigmoid(tf.matmul(hidden, G_W2) + G_b2)\n",
    "    return output"
   ]
  },
  {
   "cell_type": "code",
   "execution_count": 8,
   "metadata": {},
   "outputs": [],
   "source": [
    "# 구분자 신경망\n",
    "# 0~1 사이의 스칼라값 하나를 출력하도록 하고,\n",
    "# 이를 위한 활성화 함수로 sigmoid 함수를 사용\n",
    "def discriminator(inputs):\n",
    "    hidden = tf.nn.relu(tf.matmul(inputs, D_W1) + D_b1)\n",
    "    output = tf.nn.sigmoid(tf.matmul(hidden, D_W2) + D_b2)\n",
    "    return output"
   ]
  },
  {
   "cell_type": "code",
   "execution_count": 9,
   "metadata": {},
   "outputs": [],
   "source": [
    "# 무작위한 노이즈를 만들어주는 함수\n",
    "def get_noise(batch_size, n_noise):\n",
    "    return np.random.normal(size=(batch_size, n_noise))"
   ]
  },
  {
   "cell_type": "code",
   "execution_count": 10,
   "metadata": {},
   "outputs": [],
   "source": [
    "# 노이즈 Z를 이용해 가짜 이미지를 만들 생성자 G를 만들고\n",
    "# 이 G가 만든 가짜 이미지와 진짜 이미지 X를 각각 구분자에 넣어 입력한 이미지가\n",
    "# 진짜인지를 판별\n",
    "G = generator(Z)\n",
    "D_gene = discriminator(G)\n",
    "D_real = discriminator(X)"
   ]
  },
  {
   "cell_type": "code",
   "execution_count": 11,
   "metadata": {},
   "outputs": [],
   "source": [
    "# 손실값 구하기\n",
    "\n",
    "# 1. 생성자가 만든 이미지를 구분자가 가짜라고 판단하도록 하는 손실값\n",
    "# 2. 진짜라고 판단하도록 하는 손실값\n",
    "# 진짜 이미지이면 D_real은 1에 가깝고, 가짜 이미지면 0에 가깝다.\n",
    "loss_D = tf.reduce_mean(tf.log(D_real) + tf.log(1 - D_gene))\n",
    "loss_G = tf.reduce_mean(tf.log(D_gene))"
   ]
  },
  {
   "cell_type": "code",
   "execution_count": 12,
   "metadata": {},
   "outputs": [],
   "source": [
    "# 학습 준비\n",
    "# loss_D를 구할 때는 구분자 신경망에 사용되는 변수들만 사용\n",
    "# loss_G를 구할 때는 생성자 신경망에 사용되는 변수들만 사용\n",
    "D_var_list = [D_W1, D_b1, D_W2, D_b2]\n",
    "G_var_list = [G_W1, G_b1, G_W2, G_b2]"
   ]
  },
  {
   "cell_type": "code",
   "execution_count": 13,
   "metadata": {},
   "outputs": [],
   "source": [
    "# loss를 최대화해야 하는데, 최적화에 쓸 수 있는 함수는 minimize뿐이므로 \n",
    "# 최적화하려는 loss_D와 loss_G에 음수 부호를 붙여준다.\n",
    "train_D = tf.train.AdamOptimizer(learning_rate).minimize(\n",
    "    -loss_D, var_list=D_var_list)\n",
    "\n",
    "train_G = tf.train.AdamOptimizer(learning_rate).minimize(\n",
    "    -loss_G, var_list=G_var_list)"
   ]
  },
  {
   "cell_type": "code",
   "execution_count": 14,
   "metadata": {},
   "outputs": [],
   "source": [
    "# 학습\n",
    "sess = tf.Session()\n",
    "sess.run(tf.global_variables_initializer())\n",
    "\n",
    "# 미니배치를 위함\n",
    "total_batch = int(mnist.train.num_examples / batch_size)\n",
    "# 결과값을 받을 변수\n",
    "loss_var_D, loss_val_G = 0, 0"
   ]
  },
  {
   "cell_type": "code",
   "execution_count": 15,
   "metadata": {},
   "outputs": [
    {
     "name": "stdout",
     "output_type": "stream",
     "text": [
      "Epoch:  0000 D loss: -0.6627 G loss: -1.912\n",
      "Epoch:  0001 D loss: -0.4223 G loss: -2.162\n",
      "Epoch:  0002 D loss: -0.1639 G loss: -2.74\n",
      "Epoch:  0003 D loss: -0.6888 G loss: -1.241\n",
      "Epoch:  0004 D loss: -0.2894 G loss: -2.009\n",
      "Epoch:  0005 D loss: -0.2 G loss: -2.945\n",
      "Epoch:  0006 D loss: -0.3341 G loss: -2.536\n",
      "Epoch:  0007 D loss: -0.2807 G loss: -2.504\n",
      "Epoch:  0008 D loss: -0.3141 G loss: -2.4\n",
      "Epoch:  0009 D loss: -0.2915 G loss: -2.37\n",
      "Epoch:  0010 D loss: -0.3941 G loss: -2.375\n",
      "Epoch:  0011 D loss: -0.3904 G loss: -2.249\n",
      "Epoch:  0012 D loss: -0.1899 G loss: -2.921\n",
      "Epoch:  0013 D loss: -0.4003 G loss: -2.345\n",
      "Epoch:  0014 D loss: -0.4534 G loss: -2.515\n",
      "Epoch:  0015 D loss: -0.5935 G loss: -2.039\n",
      "Epoch:  0016 D loss: -0.3928 G loss: -2.274\n",
      "Epoch:  0017 D loss: -0.5961 G loss: -2.149\n",
      "Epoch:  0018 D loss: -0.4182 G loss: -2.301\n",
      "Epoch:  0019 D loss: -0.5912 G loss: -2.017\n",
      "Epoch:  0020 D loss: -0.5707 G loss: -1.957\n",
      "Epoch:  0021 D loss: -0.5172 G loss: -2.304\n",
      "Epoch:  0022 D loss: -0.3833 G loss: -2.456\n",
      "Epoch:  0023 D loss: -0.3852 G loss: -2.449\n",
      "Epoch:  0024 D loss: -0.3758 G loss: -2.908\n",
      "Epoch:  0025 D loss: -0.4607 G loss: -2.422\n",
      "Epoch:  0026 D loss: -0.5189 G loss: -2.035\n",
      "Epoch:  0027 D loss: -0.4127 G loss: -2.308\n",
      "Epoch:  0028 D loss: -0.6008 G loss: -2.241\n",
      "Epoch:  0029 D loss: -0.5657 G loss: -2.31\n",
      "Epoch:  0030 D loss: -0.5566 G loss: -1.95\n",
      "Epoch:  0031 D loss: -0.6355 G loss: -2.336\n",
      "Epoch:  0032 D loss: -0.6462 G loss: -2.073\n",
      "Epoch:  0033 D loss: -0.6357 G loss: -1.858\n",
      "Epoch:  0034 D loss: -0.8418 G loss: -1.795\n",
      "Epoch:  0035 D loss: -0.5981 G loss: -2.224\n",
      "Epoch:  0036 D loss: -0.6521 G loss: -2.079\n",
      "Epoch:  0037 D loss: -0.6194 G loss: -1.965\n",
      "Epoch:  0038 D loss: -0.5967 G loss: -2.218\n",
      "Epoch:  0039 D loss: -0.7312 G loss: -1.752\n",
      "Epoch:  0040 D loss: -0.8325 G loss: -1.76\n",
      "Epoch:  0041 D loss: -0.7471 G loss: -2.173\n",
      "Epoch:  0042 D loss: -0.6601 G loss: -2.036\n",
      "Epoch:  0043 D loss: -0.7252 G loss: -2.069\n",
      "Epoch:  0044 D loss: -0.4628 G loss: -2.125\n",
      "Epoch:  0045 D loss: -0.7262 G loss: -1.836\n",
      "Epoch:  0046 D loss: -0.8024 G loss: -1.915\n",
      "Epoch:  0047 D loss: -0.5915 G loss: -1.849\n",
      "Epoch:  0048 D loss: -0.7409 G loss: -1.943\n",
      "Epoch:  0049 D loss: -0.5894 G loss: -1.974\n",
      "Epoch:  0050 D loss: -0.7609 G loss: -2.207\n",
      "Epoch:  0051 D loss: -0.6576 G loss: -2.11\n",
      "Epoch:  0052 D loss: -0.6462 G loss: -1.994\n",
      "Epoch:  0053 D loss: -0.8173 G loss: -1.972\n",
      "Epoch:  0054 D loss: -0.6004 G loss: -2.072\n",
      "Epoch:  0055 D loss: -0.7944 G loss: -1.966\n",
      "Epoch:  0056 D loss: -0.7905 G loss: -1.673\n",
      "Epoch:  0057 D loss: -0.8726 G loss: -1.611\n",
      "Epoch:  0058 D loss: -0.7472 G loss: -1.778\n",
      "Epoch:  0059 D loss: -0.6243 G loss: -2.237\n",
      "Epoch:  0060 D loss: -0.8923 G loss: -1.625\n",
      "Epoch:  0061 D loss: -0.8603 G loss: -1.75\n",
      "Epoch:  0062 D loss: -0.72 G loss: -1.987\n",
      "Epoch:  0063 D loss: -0.7582 G loss: -1.87\n",
      "Epoch:  0064 D loss: -0.8554 G loss: -1.93\n",
      "Epoch:  0065 D loss: -0.9861 G loss: -1.761\n",
      "Epoch:  0066 D loss: -0.845 G loss: -1.919\n",
      "Epoch:  0067 D loss: -0.7346 G loss: -1.638\n",
      "Epoch:  0068 D loss: -0.7932 G loss: -1.757\n",
      "Epoch:  0069 D loss: -0.7309 G loss: -1.86\n",
      "Epoch:  0070 D loss: -0.8486 G loss: -1.523\n",
      "Epoch:  0071 D loss: -0.8783 G loss: -1.861\n",
      "Epoch:  0072 D loss: -0.8511 G loss: -1.366\n",
      "Epoch:  0073 D loss: -0.934 G loss: -1.629\n",
      "Epoch:  0074 D loss: -0.8363 G loss: -1.829\n",
      "Epoch:  0075 D loss: -0.695 G loss: -1.869\n",
      "Epoch:  0076 D loss: -0.9088 G loss: -1.543\n",
      "Epoch:  0077 D loss: -0.8338 G loss: -1.645\n",
      "Epoch:  0078 D loss: -0.7863 G loss: -1.769\n",
      "Epoch:  0079 D loss: -0.7902 G loss: -1.671\n",
      "Epoch:  0080 D loss: -0.8463 G loss: -1.76\n",
      "Epoch:  0081 D loss: -0.9154 G loss: -1.738\n",
      "Epoch:  0082 D loss: -0.7568 G loss: -1.933\n",
      "Epoch:  0083 D loss: -0.6966 G loss: -1.754\n",
      "Epoch:  0084 D loss: -0.7621 G loss: -1.726\n",
      "Epoch:  0085 D loss: -0.75 G loss: -1.83\n",
      "Epoch:  0086 D loss: -0.7359 G loss: -1.774\n",
      "Epoch:  0087 D loss: -0.8336 G loss: -1.737\n",
      "Epoch:  0088 D loss: -0.7093 G loss: -1.745\n",
      "Epoch:  0089 D loss: -0.8449 G loss: -1.781\n",
      "Epoch:  0090 D loss: -0.8137 G loss: -1.591\n",
      "Epoch:  0091 D loss: -0.8395 G loss: -1.704\n",
      "Epoch:  0092 D loss: -0.6279 G loss: -1.887\n",
      "Epoch:  0093 D loss: -0.9849 G loss: -1.693\n",
      "Epoch:  0094 D loss: -0.7926 G loss: -1.731\n",
      "Epoch:  0095 D loss: -0.8315 G loss: -1.895\n",
      "Epoch:  0096 D loss: -0.7917 G loss: -1.909\n",
      "Epoch:  0097 D loss: -0.6859 G loss: -1.84\n",
      "Epoch:  0098 D loss: -0.6808 G loss: -1.681\n",
      "Epoch:  0099 D loss: -0.6547 G loss: -2.023\n",
      "최적화 완료\n"
     ]
    }
   ],
   "source": [
    "for epoch in range(total_epoch):\n",
    "    for i in range(total_batch):\n",
    "        # 미니배치로 학습을 반복하도록 한다.\n",
    "        batch_xs, batch_ys = mnist.train.next_batch(batch_size)\n",
    "        noise = get_noise(batch_size, n_noise)\n",
    "        \n",
    "        # 구분자는 X 값을, 생성자는 노이즈인 Z 값을 받으므로 노이즈를 생성해주는\n",
    "        # get_noise 함수를 통해 배치 크기만큼 노이즈를 만들고 이를 입력해준다.\n",
    "        _, loss_val_D = sess.run([train_D, loss_D],\n",
    "                                feed_dict={X: batch_xs, Z: noise})\n",
    "        _, loss_val_G = sess.run([train_G, loss_G],\n",
    "                                feed_dict={Z: noise})\n",
    "        \n",
    "    print('Epoch: ', '%04d' %epoch,\n",
    "         'D loss: {:.4}'.format(loss_val_D),\n",
    "         'G loss: {:.4}'.format(loss_val_G))\n",
    "    \n",
    "    if epoch == 0 or (epoch + 1) % 10 == 0:\n",
    "        sample_size = 10\n",
    "        # 노이즈를 만들고, 이것을 생성자 G에 넣은 결괏값을 만든다.\n",
    "        noise = get_noise(sample_size, n_noise)\n",
    "        samples = sess.run(G, feed_dict={Z: noise})\n",
    "        \n",
    "        # 결괏값들을 28 * 28 크기의 가짜 이미지로 만들어 폴더에 저장\n",
    "        fig, ax = plt.subplots(1, sample_size, figsize=(sample_size, 1))\n",
    "        \n",
    "        for i in range(sample_size):\n",
    "            ax[i].set_axis_off()\n",
    "            ax[i].imshow(np.reshape(samples[i], (28, 28)))\n",
    "            \n",
    "        plt.savefig('./samples/{}.png'.format(str(epoch).zfill(3)),\n",
    "                   bbox_inches='tight')\n",
    "        plt.close(fig)\n",
    "\n",
    "print('최적화 완료')"
   ]
  },
  {
   "cell_type": "code",
   "execution_count": 16,
   "metadata": {},
   "outputs": [],
   "source": [
    "merged = tf.summary.merge_all()\n",
    "writer = tf.summary.FileWriter('./logs', sess.graph)"
   ]
  },
  {
   "cell_type": "code",
   "execution_count": null,
   "metadata": {},
   "outputs": [],
   "source": []
  }
 ],
 "metadata": {
  "kernelspec": {
   "display_name": "Python 3",
   "language": "python",
   "name": "python3"
  },
  "language_info": {
   "codemirror_mode": {
    "name": "ipython",
    "version": 3
   },
   "file_extension": ".py",
   "mimetype": "text/x-python",
   "name": "python",
   "nbconvert_exporter": "python",
   "pygments_lexer": "ipython3",
   "version": "3.7.2"
  }
 },
 "nbformat": 4,
 "nbformat_minor": 2
}
