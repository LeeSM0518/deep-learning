{
 "cells": [
  {
   "cell_type": "markdown",
   "metadata": {},
   "source": [
    "# 원하는 숫자 생성하기"
   ]
  },
  {
   "cell_type": "code",
   "execution_count": 1,
   "metadata": {},
   "outputs": [
    {
     "name": "stderr",
     "output_type": "stream",
     "text": [
      "WARNING: Logging before flag parsing goes to stderr.\n",
      "W0801 16:28:24.063848 4678571456 deprecation.py:323] From <ipython-input-1-dc39f0762428>:6: read_data_sets (from tensorflow.contrib.learn.python.learn.datasets.mnist) is deprecated and will be removed in a future version.\n",
      "Instructions for updating:\n",
      "Please use alternatives such as official/mnist/dataset.py from tensorflow/models.\n",
      "W0801 16:28:24.064622 4678571456 deprecation.py:323] From /usr/local/lib/python3.7/site-packages/tensorflow/contrib/learn/python/learn/datasets/mnist.py:260: maybe_download (from tensorflow.contrib.learn.python.learn.datasets.base) is deprecated and will be removed in a future version.\n",
      "Instructions for updating:\n",
      "Please write your own downloading logic.\n",
      "W0801 16:28:24.065192 4678571456 deprecation.py:323] From /usr/local/lib/python3.7/site-packages/tensorflow/contrib/learn/python/learn/datasets/mnist.py:262: extract_images (from tensorflow.contrib.learn.python.learn.datasets.mnist) is deprecated and will be removed in a future version.\n",
      "Instructions for updating:\n",
      "Please use tf.data to implement this functionality.\n",
      "W0801 16:28:24.226125 4678571456 deprecation.py:323] From /usr/local/lib/python3.7/site-packages/tensorflow/contrib/learn/python/learn/datasets/mnist.py:267: extract_labels (from tensorflow.contrib.learn.python.learn.datasets.mnist) is deprecated and will be removed in a future version.\n",
      "Instructions for updating:\n",
      "Please use tf.data to implement this functionality.\n",
      "W0801 16:28:24.227560 4678571456 deprecation.py:323] From /usr/local/lib/python3.7/site-packages/tensorflow/contrib/learn/python/learn/datasets/mnist.py:110: dense_to_one_hot (from tensorflow.contrib.learn.python.learn.datasets.mnist) is deprecated and will be removed in a future version.\n",
      "Instructions for updating:\n",
      "Please use tf.one_hot on tensors.\n",
      "W0801 16:28:24.261593 4678571456 deprecation.py:323] From /usr/local/lib/python3.7/site-packages/tensorflow/contrib/learn/python/learn/datasets/mnist.py:290: DataSet.__init__ (from tensorflow.contrib.learn.python.learn.datasets.mnist) is deprecated and will be removed in a future version.\n",
      "Instructions for updating:\n",
      "Please use alternatives such as official/mnist/dataset.py from tensorflow/models.\n"
     ]
    },
    {
     "name": "stdout",
     "output_type": "stream",
     "text": [
      "Extracting ./mnist/data/train-images-idx3-ubyte.gz\n",
      "Extracting ./mnist/data/train-labels-idx1-ubyte.gz\n",
      "Extracting ./mnist/data/t10k-images-idx3-ubyte.gz\n",
      "Extracting ./mnist/data/t10k-labels-idx1-ubyte.gz\n"
     ]
    }
   ],
   "source": [
    "import tensorflow as tf\n",
    "import matplotlib.pyplot as plt\n",
    "import numpy as np\n",
    "\n",
    "from tensorflow.examples.tutorials.mnist import input_data\n",
    "mnist = input_data.read_data_sets('./mnist/data', one_hot=True)\n",
    "\n",
    "total_epoch = 100\n",
    "batch_size = 100\n",
    "n_hidden = 256\n",
    "n_input = 28 * 28\n",
    "n_noise = 128\n",
    "n_class = 10\n",
    "\n",
    "X = tf.placeholder(tf.float32, [None, n_input], name='X_input')\n",
    "\n",
    "# 이전과 다르게 Y 플레이스홀더를 추가한다.\n",
    "# 이 플레이스홀더는 결괏값 판정용은 아니고, 노이즈와 실제 이미지에 각각에 해당하는\n",
    "# 숫자를 힌트로 넣어주는 용도로 사용할 것이다.\n",
    "Y = tf.placeholder(tf.float32, [None, n_class], name='Y_input')\n",
    "Z = tf.placeholder(tf.float32, [None, n_noise], name='Z_input')"
   ]
  },
  {
   "cell_type": "code",
   "execution_count": 2,
   "metadata": {},
   "outputs": [],
   "source": [
    "# tf.layers 사용\n",
    "# tf.layers를 사용하게 되면 변수를 선언하지 않고 다음과 같이 tf.variable_scope를 이용해\n",
    "# 스코프를 지정해줄 수 있다.\n",
    "\n",
    "def generator(noise, labels):\n",
    "    with tf.variable_scope('generator'):\n",
    "        # noise 값에 labels 정보를 간단하게 추가\n",
    "        inputs = tf.concat([noise, labels], 1)\n",
    "        # 은닉층을 만든다\n",
    "        hidden = tf.layers.dense(inputs, n_hidden,\n",
    "                                activation=tf.nn.relu)\n",
    "        # 출력층을 구성\n",
    "        output = tf.layers.dense(hidden, n_input,\n",
    "                                activation=tf.nn.sigmoid)\n",
    "    return output"
   ]
  },
  {
   "cell_type": "code",
   "execution_count": 3,
   "metadata": {},
   "outputs": [],
   "source": [
    "# 구분자 신경망을 만든다.\n",
    "# 구분자는 진짜 이미지를 판별할 때와 가짜 이미지를 판별할 때 똑같은 변수를 사용해야 한다\n",
    "# scope.reuse_variables 함수를 이용해 이전에 사용한 변수를 재사용하도록 작성\n",
    "\n",
    "def discriminator(inputs, labels, reuse=None):\n",
    "    with tf.variable_scope('discriminator') as scope:\n",
    "        if reuse:\n",
    "            scope.reuse_variables()\n",
    "            \n",
    "        inputs = tf.concat([inputs, labels], 1)\n",
    "        \n",
    "        hidden = tf.layers.dense(inputs, n_hidden,\n",
    "                                    activation=tf.nn.relu)\n",
    "            \n",
    "        output = tf.layers.dense(hidden, 1,\n",
    "                                activation=None)\n",
    "            \n",
    "    return output\n",
    "    \n",
    "# 여기서는 출력값에 활성화 함수를 사용하지 않았는데, 앞서와는 다르게 손실값 계산에\n",
    "# sigmoid_cross_entropy_with_logits 함수를 사용하기 위함"
   ]
  },
  {
   "cell_type": "code",
   "execution_count": 4,
   "metadata": {},
   "outputs": [],
   "source": [
    "# 노이즈 생성 함수에서 노이즈를 균등 분로로 생성한다.\n",
    "def get_noise(batch_size, n_noise):\n",
    "    with tf.variable_scope('get_noise') as scope:\n",
    "        return np.random.uniform(-1., 1., size=[batch_size, n_noise])"
   ]
  },
  {
   "cell_type": "code",
   "execution_count": 10,
   "metadata": {},
   "outputs": [
    {
     "name": "stderr",
     "output_type": "stream",
     "text": [
      "W0801 16:28:55.508828 4678571456 deprecation.py:323] From <ipython-input-2-8eef22bee3e7>:11: dense (from tensorflow.python.layers.core) is deprecated and will be removed in a future version.\n",
      "Instructions for updating:\n",
      "Use keras.layers.dense instead.\n",
      "W0801 16:28:55.511621 4678571456 deprecation.py:506] From /usr/local/lib/python3.7/site-packages/tensorflow/python/ops/init_ops.py:1251: calling VarianceScaling.__init__ (from tensorflow.python.ops.init_ops) with dtype is deprecated and will be removed in a future version.\n",
      "Instructions for updating:\n",
      "Call initializer instance with the dtype argument instead of passing it to the constructor\n"
     ]
    }
   ],
   "source": [
    "# 모델 구성\n",
    "# 생성자를 구성하고 진짜 이미지 데이터와 생성자가 만든 이미지 데이터를 이용하는\n",
    "# 구분자를 하나씩 만든다.\n",
    "# 이때 생성자에는 레이블 정보를 추가하여 추후 레이블 정보에 해당하는 이미지를 생성하도록 유도\n",
    "# 가짜 이미지 구분자를 만들 때는 진짜 이미지 구분자에서 사용한 변수들을 재사용\n",
    "# (reuse 옵션을 True)\n",
    "G = generator(Z, Y)\n",
    "D_real = discriminator(X, Y)\n",
    "D_gene = discriminator(G, Y, True)"
   ]
  },
  {
   "cell_type": "code",
   "execution_count": 12,
   "metadata": {},
   "outputs": [
    {
     "name": "stderr",
     "output_type": "stream",
     "text": [
      "W0801 16:29:10.133279 4678571456 deprecation.py:323] From /usr/local/lib/python3.7/site-packages/tensorflow/python/ops/nn_impl.py:180: add_dispatch_support.<locals>.wrapper (from tensorflow.python.ops.array_ops) is deprecated and will be removed in a future version.\n",
      "Instructions for updating:\n",
      "Use tf.where in 2.0, which has the same broadcast rule as np.where\n"
     ]
    }
   ],
   "source": [
    "# 손실 함수\n",
    "# loss_D 구하기\n",
    "loss_D_real = tf.reduce_mean(\n",
    "                tf.nn.sigmoid_cross_entropy_with_logits(\n",
    "                logits=D_real, labels=tf.ones_like(D_real)))\n",
    "\n",
    "loss_D_gene = tf.reduce_mean(\n",
    "            tf.nn.sigmoid_cross_entropy_with_logits(\n",
    "            logits=D_gene, labels=tf.zeros_like(D_gene)))\n",
    "\n",
    "# loss_D 는 loss_D_real과 loss_D_gene를 합친 것으로, 이 값을 최소화하면\n",
    "# 구분자를 학습시킬 수 있다.\n",
    "# 그러면 D_real은 1에 가까워야하고 D_gene는 0에 가까워야 한다.\n",
    "loss_D = loss_D_real + loss_D_gene"
   ]
  },
  {
   "cell_type": "code",
   "execution_count": 14,
   "metadata": {},
   "outputs": [],
   "source": [
    "# loss_G 구하기\n",
    "loss_G = tf.reduce_mean(\n",
    "    tf.nn.sigmoid_cross_entropy_with_logits(\n",
    "        logits=D_gene, labels=tf.ones_like(D_gene)))"
   ]
  },
  {
   "cell_type": "code",
   "execution_count": 16,
   "metadata": {},
   "outputs": [],
   "source": [
    "# tf.get_collection : discriminator와 generator 스코프에서\n",
    "# 사용된 변수들을 가져온 뒤, 이 변수들을 최적화에 사용할 각각의 손실 함수와 함께\n",
    "# 최적화 함수에 넣어 학습 모델 구성 마무리\n",
    "\n",
    "vars_D = tf.get_collection(tf.GraphKeys.TRAINABLE_VARIABLES,\n",
    "                          scope='discriminator')\n",
    "vars_G = tf.get_collection(tf.GraphKeys.TRAINABLE_VARIABLES,\n",
    "                          scope='generator')\n",
    "\n",
    "train_D = tf.train.AdamOptimizer().minimize(loss_D, var_list=vars_D)\n",
    "train_G = tf.train.AdamOptimizer().minimize(loss_G, var_list=vars_G)"
   ]
  },
  {
   "cell_type": "code",
   "execution_count": 17,
   "metadata": {},
   "outputs": [],
   "source": [
    "# 학습\n",
    "sess = tf.Session()\n",
    "sess.run(tf.global_variables_initializer())\n",
    "\n",
    "total_batch = int(mnist.train.num_examples / batch_size)\n",
    "loss_val_D, loss_val_G = 0, 0"
   ]
  },
  {
   "cell_type": "code",
   "execution_count": 18,
   "metadata": {},
   "outputs": [],
   "source": [
    "merged = tf.summary.merge_all()\n",
    "writer = tf.summary.FileWriter('./logs3', sess.graph)"
   ]
  },
  {
   "cell_type": "code",
   "execution_count": 19,
   "metadata": {},
   "outputs": [
    {
     "name": "stdout",
     "output_type": "stream",
     "text": [
      "Epoch:  0000 D loss: 0.006738 G loss: 7.357\n",
      "Epoch:  0001 D loss: 0.02984 G loss: 7.562\n",
      "Epoch:  0002 D loss: 0.002903 G loss: 9.521\n",
      "Epoch:  0003 D loss: 0.01821 G loss: 8.235\n",
      "Epoch:  0004 D loss: 0.003271 G loss: 8.265\n",
      "Epoch:  0005 D loss: 0.02138 G loss: 7.876\n",
      "Epoch:  0006 D loss: 0.03765 G loss: 6.166\n",
      "Epoch:  0007 D loss: 0.01852 G loss: 7.489\n",
      "Epoch:  0008 D loss: 0.00671 G loss: 7.962\n",
      "Epoch:  0009 D loss: 0.05756 G loss: 8.038\n",
      "Epoch:  0010 D loss: 0.114 G loss: 6.139\n",
      "Epoch:  0011 D loss: 0.1581 G loss: 5.756\n",
      "Epoch:  0012 D loss: 0.2464 G loss: 6.408\n",
      "Epoch:  0013 D loss: 0.3252 G loss: 4.351\n",
      "Epoch:  0014 D loss: 0.1671 G loss: 4.332\n",
      "Epoch:  0015 D loss: 0.3877 G loss: 3.761\n",
      "Epoch:  0016 D loss: 0.3048 G loss: 4.731\n",
      "Epoch:  0017 D loss: 0.398 G loss: 3.654\n",
      "Epoch:  0018 D loss: 0.4877 G loss: 3.196\n",
      "Epoch:  0019 D loss: 0.4328 G loss: 3.106\n",
      "Epoch:  0020 D loss: 0.6148 G loss: 3.2\n",
      "Epoch:  0021 D loss: 0.6976 G loss: 2.427\n",
      "Epoch:  0022 D loss: 0.8072 G loss: 2.652\n",
      "Epoch:  0023 D loss: 0.495 G loss: 3.109\n",
      "Epoch:  0024 D loss: 0.8065 G loss: 2.709\n",
      "Epoch:  0025 D loss: 0.576 G loss: 2.423\n",
      "Epoch:  0026 D loss: 0.8229 G loss: 2.36\n",
      "Epoch:  0027 D loss: 0.639 G loss: 2.602\n",
      "Epoch:  0028 D loss: 0.6914 G loss: 2.361\n",
      "Epoch:  0029 D loss: 0.537 G loss: 2.594\n",
      "Epoch:  0030 D loss: 0.9646 G loss: 1.896\n",
      "Epoch:  0031 D loss: 0.8526 G loss: 1.999\n",
      "Epoch:  0032 D loss: 0.8839 G loss: 2.329\n",
      "Epoch:  0033 D loss: 0.7408 G loss: 2.033\n",
      "Epoch:  0034 D loss: 0.7843 G loss: 2.331\n",
      "Epoch:  0035 D loss: 0.7707 G loss: 1.71\n",
      "Epoch:  0036 D loss: 0.7498 G loss: 1.896\n",
      "Epoch:  0037 D loss: 0.6223 G loss: 2.152\n",
      "Epoch:  0038 D loss: 0.6538 G loss: 2.695\n",
      "Epoch:  0039 D loss: 0.6477 G loss: 2.338\n",
      "Epoch:  0040 D loss: 0.71 G loss: 2.071\n",
      "Epoch:  0041 D loss: 0.6721 G loss: 2.234\n",
      "Epoch:  0042 D loss: 0.7319 G loss: 2.648\n",
      "Epoch:  0043 D loss: 0.761 G loss: 2.334\n",
      "Epoch:  0044 D loss: 0.7478 G loss: 2.336\n",
      "Epoch:  0045 D loss: 0.7623 G loss: 2.258\n",
      "Epoch:  0046 D loss: 0.7748 G loss: 1.931\n",
      "Epoch:  0047 D loss: 0.6988 G loss: 1.997\n",
      "Epoch:  0048 D loss: 0.8163 G loss: 1.951\n",
      "Epoch:  0049 D loss: 0.7656 G loss: 2.072\n",
      "Epoch:  0050 D loss: 0.6866 G loss: 2.179\n",
      "Epoch:  0051 D loss: 0.6952 G loss: 2.476\n",
      "Epoch:  0052 D loss: 0.811 G loss: 1.829\n",
      "Epoch:  0053 D loss: 0.6651 G loss: 2.4\n",
      "Epoch:  0054 D loss: 0.5787 G loss: 2.238\n",
      "Epoch:  0055 D loss: 0.6549 G loss: 1.825\n",
      "Epoch:  0056 D loss: 0.6782 G loss: 2.468\n",
      "Epoch:  0057 D loss: 0.7051 G loss: 2.124\n",
      "Epoch:  0058 D loss: 0.8138 G loss: 1.802\n",
      "Epoch:  0059 D loss: 0.567 G loss: 2.18\n",
      "Epoch:  0060 D loss: 0.6466 G loss: 2.361\n",
      "Epoch:  0061 D loss: 0.9148 G loss: 1.932\n",
      "Epoch:  0062 D loss: 0.5368 G loss: 2.251\n",
      "Epoch:  0063 D loss: 0.5963 G loss: 2.408\n",
      "Epoch:  0064 D loss: 0.8697 G loss: 2.13\n",
      "Epoch:  0065 D loss: 0.7213 G loss: 2.185\n",
      "Epoch:  0066 D loss: 0.6442 G loss: 2.106\n",
      "Epoch:  0067 D loss: 0.6075 G loss: 2.019\n",
      "Epoch:  0068 D loss: 0.6448 G loss: 2.385\n",
      "Epoch:  0069 D loss: 0.6515 G loss: 2.208\n",
      "Epoch:  0070 D loss: 0.7627 G loss: 2.115\n",
      "Epoch:  0071 D loss: 0.6844 G loss: 1.899\n",
      "Epoch:  0072 D loss: 0.6404 G loss: 2.005\n",
      "Epoch:  0073 D loss: 0.7052 G loss: 2.022\n",
      "Epoch:  0074 D loss: 0.7465 G loss: 1.988\n",
      "Epoch:  0075 D loss: 0.7256 G loss: 2.082\n",
      "Epoch:  0076 D loss: 0.7834 G loss: 1.907\n",
      "Epoch:  0077 D loss: 0.5335 G loss: 2.317\n",
      "Epoch:  0078 D loss: 0.9071 G loss: 1.856\n",
      "Epoch:  0079 D loss: 0.7625 G loss: 2.318\n",
      "Epoch:  0080 D loss: 0.7787 G loss: 1.79\n",
      "Epoch:  0081 D loss: 0.6368 G loss: 2.093\n",
      "Epoch:  0082 D loss: 0.6442 G loss: 1.697\n",
      "Epoch:  0083 D loss: 0.7318 G loss: 2.075\n",
      "Epoch:  0084 D loss: 0.8123 G loss: 2.018\n",
      "Epoch:  0085 D loss: 0.6884 G loss: 2.101\n",
      "Epoch:  0086 D loss: 0.8781 G loss: 1.867\n",
      "Epoch:  0087 D loss: 0.6423 G loss: 2.423\n",
      "Epoch:  0088 D loss: 0.6799 G loss: 2.077\n",
      "Epoch:  0089 D loss: 0.848 G loss: 1.994\n",
      "Epoch:  0090 D loss: 0.5191 G loss: 2.327\n",
      "Epoch:  0091 D loss: 0.7289 G loss: 1.714\n",
      "Epoch:  0092 D loss: 0.7306 G loss: 1.761\n",
      "Epoch:  0093 D loss: 0.743 G loss: 2.202\n",
      "Epoch:  0094 D loss: 0.7668 G loss: 2.151\n",
      "Epoch:  0095 D loss: 0.7586 G loss: 1.925\n",
      "Epoch:  0096 D loss: 0.749 G loss: 2.118\n",
      "Epoch:  0097 D loss: 0.679 G loss: 2.317\n",
      "Epoch:  0098 D loss: 0.6868 G loss: 2.05\n",
      "Epoch:  0099 D loss: 0.7612 G loss: 2.006\n",
      "최적화 완료!\n"
     ]
    }
   ],
   "source": [
    "for epoch in range(total_epoch):\n",
    "    for i in range(total_batch):\n",
    "        batch_xs, batch_ys = mnist.train.next_batch(batch_size)\n",
    "        noise = get_noise(batch_size, n_noise)\n",
    "        \n",
    "        _, loss_val_D = sess.run([train_D, loss_D],\n",
    "                                feed_dict={X: batch_xs,\n",
    "                                          Y: batch_ys,\n",
    "                                          Z: noise})\n",
    "        _, loss_val_G = sess.run([train_G, loss_G],\n",
    "                                feed_dict={Y: batch_ys,\n",
    "                                          Z: noise})\n",
    "        \n",
    "    print('Epoch: ', '%04d' %epoch,\n",
    "         'D loss: {:.4}'.format(loss_val_D),\n",
    "         'G loss: {:.4}'.format(loss_val_G))\n",
    "    \n",
    "    if epoch == 0 or (epoch + 1) % 10 == 0:\n",
    "        sample_size = 10\n",
    "        noise = get_noise(sample_size, n_noise)\n",
    "        samples = sess.run(G,\n",
    "                          feed_dict={\n",
    "                              Y: mnist.test.labels[:sample_size],\n",
    "                              Z: noise\n",
    "                          })\n",
    "        \n",
    "        fig, ax = plt.subplots(2, sample_size, figsize=(sample_size, 2))\n",
    "        \n",
    "        for i in range(sample_size):\n",
    "            ax[0][i].set_axis_off()\n",
    "            ax[1][i].set_axis_off()\n",
    "            \n",
    "            ax[0][i].imshow(np.reshape(mnist.test.images[i], (28, 28)))\n",
    "            ax[1][i].imshow(np.reshape(samples[i], (28, 28)))\n",
    "        \n",
    "        plt.savefig('samples2/{}.png'.format(str(epoch).zfill(3)),\n",
    "                    bbox_inches='tight')\n",
    "        plt.close(fig)\n",
    "        \n",
    "print('최적화 완료!')"
   ]
  }
 ],
 "metadata": {
  "kernelspec": {
   "display_name": "Python 3",
   "language": "python",
   "name": "python3"
  },
  "language_info": {
   "codemirror_mode": {
    "name": "ipython",
    "version": 3
   },
   "file_extension": ".py",
   "mimetype": "text/x-python",
   "name": "python",
   "nbconvert_exporter": "python",
   "pygments_lexer": "ipython3",
   "version": "3.7.2"
  }
 },
 "nbformat": 4,
 "nbformat_minor": 2
}
