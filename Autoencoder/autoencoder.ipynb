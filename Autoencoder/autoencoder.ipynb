{
 "cells": [
  {
   "cell_type": "markdown",
   "metadata": {},
   "source": [
    "# 오토인코더 구현\n",
    "* **Numpy** : 행렬변환 및 계산 라이브러리\n",
    "* **matplotlib** : 연산 결과를 가시화하기 위한 라이브러리\n",
    "* **MNIST** : 숫자 손글씨 예제"
   ]
  },
  {
   "cell_type": "code",
   "execution_count": 3,
   "metadata": {},
   "outputs": [
    {
     "name": "stdout",
     "output_type": "stream",
     "text": [
      "Extracting ./mnist/data/train-images-idx3-ubyte.gz\n",
      "Extracting ./mnist/data/train-labels-idx1-ubyte.gz\n",
      "Successfully downloaded t10k-images-idx3-ubyte.gz 1648877 bytes.\n",
      "Extracting ./mnist/data/t10k-images-idx3-ubyte.gz\n"
     ]
    },
    {
     "name": "stderr",
     "output_type": "stream",
     "text": [
      "W0725 12:37:56.875436 4435011008 deprecation.py:323] From /usr/local/lib/python3.7/site-packages/tensorflow/contrib/learn/python/learn/datasets/mnist.py:290: DataSet.__init__ (from tensorflow.contrib.learn.python.learn.datasets.mnist) is deprecated and will be removed in a future version.\n",
      "Instructions for updating:\n",
      "Please use alternatives such as official/mnist/dataset.py from tensorflow/models.\n"
     ]
    },
    {
     "name": "stdout",
     "output_type": "stream",
     "text": [
      "Successfully downloaded t10k-labels-idx1-ubyte.gz 4542 bytes.\n",
      "Extracting ./mnist/data/t10k-labels-idx1-ubyte.gz\n"
     ]
    }
   ],
   "source": [
    "import tensorflow as tf\n",
    "import numpy as np\n",
    "import matplotlib.pyplot as plt\n",
    "\n",
    "from tensorflow.examples.tutorials.mnist import input_data\n",
    "mnist = input_data.read_data_sets(\"./mnist/data\", one_hot=True)"
   ]
  },
  {
   "cell_type": "markdown",
   "metadata": {},
   "source": [
    "## 하이퍼파라미터 옵션\n",
    "* **learning_rate** : 최적화 함수에서 사용할 학습률\n",
    "* **training_epoch** : 전체 데이터를 학습할 총횟수\n",
    "* **batch_size** : 미니배치로 한 번에 학습할 데이터의 개수\n",
    "* **n_hidden** : 은닉층의 뉴런 개수\n",
    "* **n_input** : 입력값의 크기 (MNIST의 이미지 크기가 28 x 28 이므로 784 가 된다.)"
   ]
  },
  {
   "cell_type": "code",
   "execution_count": 4,
   "metadata": {},
   "outputs": [],
   "source": [
    "learning_rate = 0.01\n",
    "training_epoch = 20\n",
    "batch_size = 100\n",
    "n_hidden = 256\n",
    "n_input = 28*28"
   ]
  },
  {
   "cell_type": "markdown",
   "metadata": {},
   "source": [
    "## 입력값 플레이스홀더 설정\n",
    "* 비지도 학습이므로 **출력값 플레이스 홀더가 없다.**"
   ]
  },
  {
   "cell_type": "code",
   "execution_count": 5,
   "metadata": {},
   "outputs": [],
   "source": [
    "X = tf.placeholder(tf.float32, [None, n_input])"
   ]
  },
  {
   "cell_type": "markdown",
   "metadata": {},
   "source": [
    "## 인코더, 디코더 구현\n",
    "1. 우선 n_hidden(256)개의 뉴런을 가진 은닉층을 만든다.\n",
    "2. 가중치와 편향 변수를 원하는 뉴런의 개수만큼 설정한다.\n",
    "3. 변수들을 입력값과 곱하고 더한 뒤, 활성화 함수인 sigmoid 함수를 적용한다.\n",
    "\n",
    "<br>\n",
    "\n",
    "* **n_input 값보다 n_hidden 값이 더 작아서** 입력값을 압축하고 노이즈를 제거하면서 입력값의 특징을 찾아낸다."
   ]
  },
  {
   "cell_type": "code",
   "execution_count": 6,
   "metadata": {},
   "outputs": [],
   "source": [
    "W_encode = tf.Variable(tf.random_normal([n_input, n_hidden]))\n",
    "b_encode = tf.Variable(tf.random_normal([n_hidden]))\n",
    "\n",
    "encoder = tf.nn.sigmoid(tf.add(tf.matmul(X, W_encode), b_encode))"
   ]
  },
  {
   "cell_type": "code",
   "execution_count": 9,
   "metadata": {},
   "outputs": [],
   "source": [
    "# 디코더는 인코더의 반대로 입력값을 은닉층의 크기로 출력값을 입력층의 크기로 만들었다.\n",
    "W_decode = tf.Variable(tf.random_normal([n_hidden, n_input]))\n",
    "b_decode = tf.Variable(tf.random_normal([n_input]))\n",
    "decoder = tf.nn.sigmoid(tf.add(tf.matmul(encoder, W_decode), b_decode))"
   ]
  },
  {
   "cell_type": "markdown",
   "metadata": {},
   "source": [
    "입력층(784) => 은닉층(256) => 출력층(784)\n",
    "\n",
    "<br>\n",
    "\n",
    "## 손실 함수 구현\n",
    "* 가중치들을 최적화하기 위한 손실 함수 구현이 필요하다\n",
    "* 압축된 은닉층의 뉴런들을 통해 입력값의 특징을 알아낼 수 있다.\n",
    "* 입력값인 X를 평가하가 위한 실측값을 사용하고, 디코더가 내보낸 결괏값과의 차이를 손실값으로 설정한다. 그리고 이 값의 차이는 거리 함수로 구한다."
   ]
  },
  {
   "cell_type": "code",
   "execution_count": 10,
   "metadata": {},
   "outputs": [
    {
     "name": "stderr",
     "output_type": "stream",
     "text": [
      "W0725 12:56:06.199824 4435011008 deprecation.py:323] From /usr/local/lib/python3.7/site-packages/tensorflow/python/ops/math_grad.py:1205: add_dispatch_support.<locals>.wrapper (from tensorflow.python.ops.array_ops) is deprecated and will be removed in a future version.\n",
      "Instructions for updating:\n",
      "Use tf.where in 2.0, which has the same broadcast rule as np.where\n",
      "W0725 12:56:06.237097 4435011008 deprecation.py:506] From /usr/local/lib/python3.7/site-packages/tensorflow/python/training/rmsprop.py:119: calling Ones.__init__ (from tensorflow.python.ops.init_ops) with dtype is deprecated and will be removed in a future version.\n",
      "Instructions for updating:\n",
      "Call initializer instance with the dtype argument instead of passing it to the constructor\n"
     ]
    }
   ],
   "source": [
    "cost = tf.reduce_mean(tf.pow(X - decoder, 2))\n",
    "optimizer = tf.train.RMSPropOptimizer(learning_rate).minimize(cost)"
   ]
  },
  {
   "cell_type": "markdown",
   "metadata": {},
   "source": [
    "## 학습 진행"
   ]
  },
  {
   "cell_type": "code",
   "execution_count": 12,
   "metadata": {},
   "outputs": [
    {
     "name": "stdout",
     "output_type": "stream",
     "text": [
      "Epoch:  0001 Avg. cost =  0.1915\n",
      "Epoch:  0002 Avg. cost =  0.0571\n",
      "Epoch:  0003 Avg. cost =  0.0468\n",
      "Epoch:  0004 Avg. cost =  0.0407\n",
      "Epoch:  0005 Avg. cost =  0.0370\n",
      "Epoch:  0006 Avg. cost =  0.0350\n",
      "Epoch:  0007 Avg. cost =  0.0328\n",
      "Epoch:  0008 Avg. cost =  0.0318\n",
      "Epoch:  0009 Avg. cost =  0.0313\n",
      "Epoch:  0010 Avg. cost =  0.0309\n",
      "Epoch:  0011 Avg. cost =  0.0306\n",
      "Epoch:  0012 Avg. cost =  0.0302\n",
      "Epoch:  0013 Avg. cost =  0.0298\n",
      "Epoch:  0014 Avg. cost =  0.0296\n",
      "Epoch:  0015 Avg. cost =  0.0290\n",
      "Epoch:  0016 Avg. cost =  0.0286\n",
      "Epoch:  0017 Avg. cost =  0.0284\n",
      "Epoch:  0018 Avg. cost =  0.0283\n",
      "Epoch:  0019 Avg. cost =  0.0282\n",
      "Epoch:  0020 Avg. cost =  0.0268\n",
      "최적화 완료!\n"
     ]
    }
   ],
   "source": [
    "init = tf.global_variables_initializer()\n",
    "sess = tf.Session()\n",
    "sess.run(init)\n",
    "\n",
    "total_batch = int(mnist.train.num_examples / batch_size)\n",
    "\n",
    "for epoch in range(training_epoch):\n",
    "    total_cost = 0\n",
    "    \n",
    "    for i in range(total_batch):\n",
    "        batch_xs, batch_ys = mnist.train.next_batch(batch_size)\n",
    "        _, cost_val = sess.run([optimizer, cost], feed_dict={X: batch_xs})\n",
    "\n",
    "        total_cost += cost_val\n",
    "        \n",
    "    print('Epoch: ', '%04d' %(epoch + 1),\n",
    "         'Avg. cost = ', '{:.4f}'.format(total_cost / total_batch))\n",
    "    \n",
    "print('최적화 완료!')"
   ]
  },
  {
   "cell_type": "markdown",
   "metadata": {},
   "source": [
    "## 디코더 결과값 확인"
   ]
  },
  {
   "cell_type": "code",
   "execution_count": 13,
   "metadata": {},
   "outputs": [],
   "source": [
    "# 먼저 총 10개의 테스트 데이터를 가져와 디코더를 이용해 출력값으로 만든다\n",
    "sample_size = 10\n",
    "samples = sess.run(decoder, feed_dict={X: mnist.test.images[:sample_size]})"
   ]
  },
  {
   "cell_type": "code",
   "execution_count": 14,
   "metadata": {},
   "outputs": [
    {
     "data": {
      "image/png": "[encoded data removed]",
      "text/plain": [
       "<Figure size 720x144 with 20 Axes>"
      ]
     },
     "metadata": {
      "needs_background": "light"
     },
     "output_type": "display_data"
    }
   ],
   "source": [
    "# numpy 모듈을 이용해 MNIST 데이터를 28 x 28 크기의 이미지 데이터로 재구성한 뒤,\n",
    "# matplotlib의 imshow 함수를 이용해 그래프에 이미지로 출력한다.\n",
    "fig, ax = plt.subplots(2, sample_size, figsize=(sample_size, 2))\n",
    "\n",
    "for i in range(sample_size):\n",
    "    ax[0][1].set_axis_off()\n",
    "    ax[1][i].set_axis_off()\n",
    "    ax[0][i].imshow(np.reshape(mnist.test.images[i], (28, 28)))\n",
    "    ax[1][i].imshow(np.reshape(samples[i], (28, 28)))\n",
    "    \n",
    "plt.show()"
   ]
  },
  {
   "cell_type": "code",
   "execution_count": null,
   "metadata": {},
   "outputs": [],
   "source": []
  }
 ],
 "metadata": {
  "kernelspec": {
   "display_name": "Python 3",
   "language": "python",
   "name": "python3"
  },
  "language_info": {
   "codemirror_mode": {
    "name": "ipython",
    "version": 3
   },
   "file_extension": ".py",
   "mimetype": "text/x-python",
   "name": "python",
   "nbconvert_exporter": "python",
   "pygments_lexer": "ipython3",
   "version": "3.7.2"
  }
 },
 "nbformat": 4,
 "nbformat_minor": 2
}
